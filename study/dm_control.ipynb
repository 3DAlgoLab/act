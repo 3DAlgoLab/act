{
  "cells": [
    {
      "cell_type": "markdown",
      "metadata": {
        "id": "MpkYHwCqk7W-"
      },
      "source": [
        "# **`dm_control` tutorial**\n"
      ]
    },
    {
      "cell_type": "markdown",
      "metadata": {
        "id": "aThGKGp0cD76"
      },
      "source": [
        "This notebook provides an overview tutorial of DeepMind's `dm_control` package, hosted at the [google-deepmind/dm_control](https://github.com/google-deepmind/dm_control) repository on GitHub.\n",
        "\n",
        "It is adjunct to this [tech report](http://arxiv.org/abs/2006.12983).\n",
        "\n",
        "**A Colab runtime with GPU acceleration is required.** If you're using a CPU-only runtime, you can switch using the menu \"Runtime > Change runtime type\"."
      ]
    },
    {
      "cell_type": "markdown",
      "metadata": {
        "id": "wtDN43hIJh2C"
      },
      "source": [
        "# Imports\n",
        "\n",
        "Run both of these cells:"
      ]
    },
    {
      "cell_type": "code",
      "execution_count": 1,
      "metadata": {
        "id": "T5f4w3Kq2X14"
      },
      "outputs": [],
      "source": [
        "# @title All `dm_control` imports required for this tutorial\n",
        "\n",
        "# The basic mujoco wrapper.\n",
        "from dm_control import mujoco\n",
        "\n",
        "# Access to enums and MuJoCo library functions.\n",
        "from dm_control.mujoco.wrapper.mjbindings import enums\n",
        "from dm_control.mujoco.wrapper.mjbindings import mjlib\n",
        "\n",
        "# PyMJCF\n",
        "from dm_control import mjcf\n",
        "\n",
        "# Composer high level imports\n",
        "from dm_control import composer\n",
        "from dm_control.composer.observation import observable\n",
        "from dm_control.composer import variation\n",
        "\n",
        "# Imports for Composer tutorial example\n",
        "from dm_control.composer.variation import distributions\n",
        "from dm_control.composer.variation import noises\n",
        "from dm_control.locomotion.arenas import floors\n",
        "\n",
        "# Control Suite\n",
        "from dm_control import suite\n",
        "\n",
        "# Run through corridor example\n",
        "from dm_control.locomotion.walkers import cmu_humanoid\n",
        "from dm_control.locomotion.arenas import corridors as corridor_arenas\n",
        "from dm_control.locomotion.tasks import corridors as corridor_tasks\n",
        "\n",
        "# Soccer\n",
        "from dm_control.locomotion import soccer\n",
        "\n",
        "# Manipulation\n",
        "from dm_control import manipulation"
      ]
    },
    {
      "cell_type": "code",
      "execution_count": 2,
      "metadata": {
        "id": "gKc1FNhKiVJX"
      },
      "outputs": [],
      "source": [
        "#@title Other imports and helper functions\n",
        "\n",
        "# General\n",
        "import copy\n",
        "import os\n",
        "import itertools\n",
        "from IPython.display import clear_output\n",
        "import numpy as np\n",
        "\n",
        "# Graphics-related\n",
        "import matplotlib\n",
        "import matplotlib.animation as animation\n",
        "import matplotlib.pyplot as plt\n",
        "from IPython.display import HTML\n",
        "import PIL.Image\n",
        "# Internal loading of video libraries.\n",
        "\n",
        "# Use svg backend for figure rendering\n",
        "%config InlineBackend.figure_format = 'svg'\n",
        "\n",
        "# Font sizes\n",
        "SMALL_SIZE = 8\n",
        "MEDIUM_SIZE = 10\n",
        "BIGGER_SIZE = 12\n",
        "plt.rc('font', size=SMALL_SIZE)          # controls default text sizes\n",
        "plt.rc('axes', titlesize=SMALL_SIZE)     # fontsize of the axes title\n",
        "plt.rc('axes', labelsize=MEDIUM_SIZE)    # fontsize of the x and y labels\n",
        "plt.rc('xtick', labelsize=SMALL_SIZE)    # fontsize of the tick labels\n",
        "plt.rc('ytick', labelsize=SMALL_SIZE)    # fontsize of the tick labels\n",
        "plt.rc('legend', fontsize=SMALL_SIZE)    # legend fontsize\n",
        "plt.rc('figure', titlesize=BIGGER_SIZE)  # fontsize of the figure title\n",
        "\n",
        "# Inline video helper function\n",
        "if os.environ.get('COLAB_NOTEBOOK_TEST', False):\n",
        "  # We skip video generation during tests, as it is quite expensive.\n",
        "  display_video = lambda *args, **kwargs: None\n",
        "else:\n",
        "  def display_video(frames, framerate=30):\n",
        "    height, width, _ = frames[0].shape\n",
        "    dpi = 70\n",
        "    orig_backend = matplotlib.get_backend()\n",
        "    matplotlib.use('Agg')  # Switch to headless 'Agg' to inhibit figure rendering.\n",
        "    fig, ax = plt.subplots(1, 1, figsize=(width / dpi, height / dpi), dpi=dpi)\n",
        "    matplotlib.use(orig_backend)  # Switch back to the original backend.\n",
        "    ax.set_axis_off()\n",
        "    ax.set_aspect('equal')\n",
        "    ax.set_position([0, 0, 1, 1])\n",
        "    im = ax.imshow(frames[0])\n",
        "    def update(frame):\n",
        "      im.set_data(frame)\n",
        "      return [im]\n",
        "    interval = 1000/framerate\n",
        "    anim = animation.FuncAnimation(fig=fig, func=update, frames=frames,\n",
        "                                   interval=interval, blit=True, repeat=False)\n",
        "    return HTML(anim.to_html5_video())\n",
        "\n",
        "# Seed numpy's global RNG so that cell outputs are deterministic. We also try to\n",
        "# use RandomState instances that are local to a single cell wherever possible.\n",
        "np.random.seed(42)"
      ]
    },
    {
      "cell_type": "markdown",
      "metadata": {
        "id": "jZXz9rPYGA-Y"
      },
      "source": [
        "# Model definition, compilation and rendering\n",
        "\n"
      ]
    },
    {
      "cell_type": "markdown",
      "metadata": {
        "id": "MRBaZsf1d7Gb"
      },
      "source": [
        "We begin by describing some basic concepts of the [MuJoCo](http://mujoco.org/) physics simulation library, but recommend the [official documentation](http://mujoco.org/book/) for details.\n",
        "\n",
        "Let's define a simple model with two geoms and a light."
      ]
    },
    {
      "cell_type": "code",
      "execution_count": 3,
      "metadata": {
        "id": "ZS2utl59ZTsr"
      },
      "outputs": [
        {
          "data": {
            "image/jpeg": "[encoded data removed]",
            "image/png": "[encoded data removed]",
            "text/plain": [
              "<PIL.Image.Image image mode=RGB size=320x240>"
            ]
          },
          "execution_count": 3,
          "metadata": {},
          "output_type": "execute_result"
        }
      ],
      "source": [
        "# @title A static model {vertical-output: true}\n",
        "\n",
        "static_model = \"\"\"\n",
        "<mujoco>\n",
        "  <worldbody>\n",
        "    <light name=\"top\" pos=\"0 0 1\"/>\n",
        "    <geom name=\"red_box\" type=\"box\" size=\".2 .2 .2\" rgba=\"1 0 0 1\"/>\n",
        "    <geom name=\"green_sphere\" pos=\".2 .2 .2\" size=\".1\" rgba=\"0 1 0 1\"/>\n",
        "  </worldbody>\n",
        "</mujoco>\n",
        "\"\"\"\n",
        "physics = mujoco.Physics.from_xml_string(static_model)\n",
        "pixels = physics.render()\n",
        "PIL.Image.fromarray(pixels)"
      ]
    },
    {
      "cell_type": "markdown",
      "metadata": {
        "id": "p4vPllljTJh8"
      },
      "source": [
        "`static_model` is written in MuJoCo's XML-based [MJCF](http://www.mujoco.org/book/modeling.html) modeling language. The `from_xml_string()` method invokes the model compiler, which instantiates the library's internal data structures. These can be accessed via the `physics` object, see below."
      ]
    },
    {
      "cell_type": "markdown",
      "metadata": {
        "id": "MdUF2UYmR4TA"
      },
      "source": [
        "## Adding DOFs and simulating, advanced rendering\n",
        "This is a perfectly legitimate model, but if we simulate it, nothing will happen except for time advancing. This is because this model has no degrees of freedom (DOFs). We add DOFs by adding **joints** to bodies, specifying how they can move with respect to their parents. Let us add a hinge joint and re-render, visualizing the joint axis."
      ]
    },
    {
      "cell_type": "code",
      "execution_count": 4,
      "metadata": {
        "id": "R7zokzd_yeEg"
      },
      "outputs": [
        {
          "data": {
            "image/jpeg": "[encoded data removed]",
            "image/png": "[encoded data removed]",
            "text/plain": [
              "<PIL.Image.Image image mode=RGB size=320x240>"
            ]
          },
          "execution_count": 4,
          "metadata": {},
          "output_type": "execute_result"
        }
      ],
      "source": [
        "# @title A child body with a joint { vertical-output: true }\n",
        "\n",
        "swinging_body = \"\"\"\n",
        "<mujoco>\n",
        "  <worldbody>\n",
        "    <light name=\"top\" pos=\"0 0 1\"/>\n",
        "    <body name=\"box_and_sphere\" euler=\"0 0 -30\">\n",
        "      <joint name=\"swing\" type=\"hinge\" axis=\"1 -1 0\" pos=\"-.2 -.2 -.2\"/>\n",
        "      <geom name=\"red_box\" type=\"box\" size=\".2 .2 .2\" rgba=\"1 0 0 1\"/>\n",
        "      <geom name=\"green_sphere\" pos=\".2 .2 .2\" size=\".1\" rgba=\"0 1 0 1\"/>\n",
        "    </body>\n",
        "  </worldbody>\n",
        "</mujoco>\n",
        "\"\"\"\n",
        "physics = mujoco.Physics.from_xml_string(swinging_body)\n",
        "# Visualize the joint axis.\n",
        "scene_option = mujoco.wrapper.core.MjvOption()\n",
        "scene_option.flags[enums.mjtVisFlag.mjVIS_JOINT] = True\n",
        "pixels = physics.render(scene_option=scene_option)\n",
        "PIL.Image.fromarray(pixels)"
      ]
    },
    {
      "cell_type": "markdown",
      "metadata": {
        "id": "INOGGV0PTQus"
      },
      "source": [
        "The things that move (and which have inertia) are called *bodies*. The body's child `joint` specifies how that body can move with respect to its parent, in this case `box_and_sphere` w.r.t the `worldbody`.\n",
        "\n",
        "Note that the body's frame is **rotated** with an `euler` directive, and its children, the geoms and the joint, rotate with it. This is to emphasize the local-to-parent-frame nature of position and orientation directives in MJCF.\n",
        "\n",
        "Let's make a video, to get a sense of the dynamics and to see the body swinging under gravity."
      ]
    },
    {
      "cell_type": "code",
      "execution_count": 5,
      "metadata": {
        "id": "Z_57VMUDpGrj"
      },
      "outputs": [
        {
          "name": "stderr",
          "output_type": "stream",
          "text": [
            "/tmp/ipykernel_7989/3061478879.py:44: MatplotlibDeprecationWarning: Auto-close()ing of figures upon backend switching is deprecated since 3.8 and will be removed two minor releases later.  To suppress this warning, explicitly call plt.close('all') first.\n",
            "  matplotlib.use(orig_backend)  # Switch back to the original backend.\n"
          ]
        },
        {
          "data": {
            "text/html": [
              "<video width=\"320\" height=\"240\" controls autoplay>\n",
              "  <source type=\"video/mp4\" src=\"data:video/mp4;base64,AAAAHGZ0eXBNNFYgAAACAGlzb21pc28yYXZjMQAAAAhmcmVlAABkxG1kYXQAAAKuBgX//6rcRem9\n",
              "5tlIt5Ys2CDZI+7veDI2NCAtIGNvcmUgMTU1IHIyOTE3IDBhODRkOTggLSBILjI2NC9NUEVHLTQg\n",
              "QVZDIGNvZGVjIC0gQ29weWxlZnQgMjAwMy0yMDE4IC0gaHR0cDovL3d3dy52aWRlb2xhbi5vcmcv\n",
              "eDI2NC5odG1sIC0gb3B0aW9uczogY2FiYWM9MSByZWY9MyBkZWJsb2NrPTE6MDowIGFuYWx5c2U9\n",
              "MHgzOjB4MTEzIG1lPWhleCBzdWJtZT03IHBzeT0xIHBzeV9yZD0xLjAwOjAuMDAgbWl4ZWRfcmVm\n",
              "PTEgbWVfcmFuZ2U9MTYgY2hyb21hX21lPTEgdHJlbGxpcz0xIDh4OGRjdD0xIGNxbT0wIGRlYWR6\n",
              "b25lPTIxLDExIGZhc3RfcHNraXA9MSBjaHJvbWFfcXBfb2Zmc2V0PS0yIHRocmVhZHM9NyBsb29r\n",
              "YWhlYWRfdGhyZWFkcz0xIHNsaWNlZF90aHJlYWRzPTAgbnI9MCBkZWNpbWF0ZT0xIGludGVybGFj\n",
              "ZWQ9MCBibHVyYXlfY29tcGF0PTAgY29uc3RyYWluZWRfaW50cmE9MCBiZnJhbWVzPTMgYl9weXJh\n",
              "bWlkPTIgYl9hZGFwdD0xIGJfYmlhcz0wIGRpcmVjdD0xIHdlaWdodGI9MSBvcGVuX2dvcD0wIHdl\n",
              "aWdodHA9MiBrZXlpbnQ9MjUwIGtleWludF9taW49MjUgc2NlbmVjdXQ9NDAgaW50cmFfcmVmcmVz\n",
              "aD0wIHJjX2xvb2thaGVhZD00MCByYz1jcmYgbWJ0cmVlPTEgY3JmPTIzLjAgcWNvbXA9MC42MCBx\n",
              "cG1pbj0wIHFwbWF4PTY5IHFwc3RlcD00IGlwX3JhdGlvPTEuNDAgYXE9MToxLjAwAIAAAAZ4ZYiE\n",
              "ADP//vbsvgU2FMhQlxEsxdpKcD4qpICAdzTAAAcW5YhO1/7z3s+AacEil3T4G76E+kzJ9+MIm4e7\n",
              "WL0ApH6LguTcYpwTVc1g58jE5GpQ4VUGxPJq1w6W7/72vBUWTiyL82bzYMXrCw2vaAZooMfmTtoH\n",
              "FO4DODjJfqoddHsPaAF9uRxdSPPX4mlDnc0t/AnynfRwoue+pKVjDQSDcwz0aqPmth0ez6VVGVvx\n",
              "cfcKzRTG8uQpK9P9IVKAk6AkQasDlp1x13VROQzsmE6nsN7ofA6U1h6+ozsw1YUwPs6OFOHrT90j\n",
              "C6xE/ryyYm4GZp21osbkX7dY6dBMtabz7uZVYJKMfsVYt7jWZbYbtbQFmW0j09Rb6ZFO2cPM2XQX\n",
              "8Od3VubwxMw1sAjzPK+8ysDQ6Q0LQMtlX8Yd9Hz0UDY5nTAH5LQW3tgGku2KeucwklH7K8nPz/J2\n",
              "9kOd+BINvzzM18WMEwH3TB73tMGchNIyWdBnRfawg8EX/aqQU3QJcUR1eaVPs6yHPA1ASHut1c7v\n",
              "G6rzS96YuF2rgwAr2rjSK4nfcrTkRgG4CRZolkfAyYnC+K9wUqy3kAlhvxbBFSNIfpeftGpu+4aQ\n",
              "xwbHFJ0QXz7BoSvmuCOs2pMwYaamVdZReVWJ0p/RQFW25GJsxqnDKxrwI+7+C8hNC4fsMbDrVjUm\n",
              "xiJK1ievjEWVmt6GT8ziOHZeEpzT6E4jDZwo6yS8nh8XS1PU3r6bjRkVFKzOHxPRoje2DQE4g3h0\n",
              "VlTjIikyGX1gNGrI2ZF/KNUwsck3M5N0A/bAbTdVEFPj3+2G/avXnZJtGk8Qywn8e1vdTWAK1M7A\n",
              "6qAJCg8IJlztirX05LHPCrJs+6rfBi2G1J7lqCTunV4hmDpnbqvQpFDC1E8qDuLg1YPaiKhTC4aS\n",
              "BPUXeB4vrSwj+g8Fq9w0aBVryI0Xk2qD8klv2Gcx7wEVVuLVc2yGAmU8y6MdWOnFZnyDgCFdARxP\n",
              "k3iQP/ihje9k4UGtAjR8cZMwDJwGc/hqmYejWFuFAkpCu6RknuqKOiYyr6VfDt17nIDpvg54hojF\n",
              "p8xL+t/i7gwSayKCdXdsB/1vSCjGInj/x4nMhituHKDIShBivoJiMdJ0erXs3Uuyp/8eddpEnYB6\n",
              "UrfGuqSe8Qi5J0bTq8uQSXJ4TkdjTlsW3SO9nXYjJNKpeg0ZxOcRR6BX6661tI9abiXKUYcRxJsn\n",
              "Z+YaAzI7vUbTHsK2amDf7wH8HyGg+2VJz4BY3ajbT4r22rfe3uoegnRAwDu6fZRlATT0+O3y18P1\n",
              "5o654HtCbE2n8p57zRbee1v5cWOPUXM2fqGJgPNp0eoHLoDByys94sWz509Hh60IlyWu4d4CTepy\n",
              "hwcSejRn177mYF0/QYD3N1184HskAD6aNcyH8lM9YFAAxO9iCocty6jD6dtGi3VaFiaAsGLpH/04\n",
              "nCjqhHZ/xHCQjP3NGOAUtpHQXXM76nK2a0ca9pLlGh7u6xlgwJfeiolaA1dP1JPsC3oF9P8iaROP\n",
              "DR/brstKyO/xCirwBOgXfXmo+qRA2mQ/Qqwpj/9n/CciDa5ZB6ZkbxKZCIs2LxkqcByJZOVBEEN0\n",
              "/rAJ52arv/Va5zdCovV4vcQuylx7zqehyMalSM4nCP7lF3gDOXMP/jYodBzwanR1rsHX4orZV2wE\n",
              "a9esWMWTzdY3nd4dVZXk9O9+bU56LwYROzYFTw+/mafY1EkfVS4ankwqhWUlDLTGd6TCVPXR0UbE\n",
              "KK0zONDn8Lntsh84RzJOobE9BLKmbAkzetdmzSVCl64eTbeGvxk3DpW7YG/ccU0pZXmUx1+kZ1XM\n",
              "mlZafORNcSoSgMF5etkcyz+Y2B5N8bEMrLtr5/d5N2NylFCeU4rgAPQTX/5JA4DQ68xSVKgBkHvj\n",
              "Jl2Z62qW3WKGFqjUgU/qFCOhZmASzlG6H+w/T66jB3UrpDfmPZcfOgQk8PcLnEF4ld8eouYY1uIK\n",
              "4K0RchZNUw54OX7NeINm9KI3gHHni+0gLXSyfz2V1OoeGvo3x8cs5GoYUdJgHeDSjBfafiK+LTo6\n",
              "MtTTJgaD+xSAtk2m07ODd2JJ7CvBt4GJVhjeP4n+ecfPbQe1+70PxmE5FSWg3cg+4B1UpY5BtyJW\n",
              "5ocyf6tVbGMqNzBP4B8fo5yUsMPu2sqKzYtF6tYW+kJkpV3S+ubWGhOoENo7l7egAAWkNbUgAA/x\n",
              "AAACNUGaJGxC//6MsA2XE4j9rbWdBUJ6gQDq8vGPjvyyTduobIAWkNLNu0qf0dLRJ41o0y8Odeqt\n",
              "UzYWgYo5nfBRhc8GoWm+xFnJx9IhWOrvgGzZQGBrTHe3x4GuE0xFPMHI0golftQCx/G4NvdHtMKi\n",
              "XaSCYBGv6u6ajDh2R8dvFbc3eNFi2mfx9OFAGIs9CwfRlOIUZ3Pbpz9rtjPzEW0/vZNjeln55lq4\n",
              "jhVDNoqqQ0uY8ZZjX5xqyqJcoVOILS3R5ra5QYVrPmDt8sLYVZhwGGu6M9Zf/97lR/bA0rncggBI\n",
              "i+UUe1vSOYjblZpq/u5erP3qz5sWmTF4D/O0iteM7nhsUg0C7RZuTNapJRSGdtjDKev/vIcG5RLR\n",
              "gadroQk0quEfAJOUOgZ0+ATKZV3WeQhJjy8+EAfw8x4BS2AQe1F0gnG6gp6ezcVh6/DlfAhAymPZ\n",
              "+qkJjjukKfJ7fA898ZeJGSzO3ANubE/oY5PIMqEjI4KCG5RiJLp+UKB/wUDsIcMjd/DR+FkPR9s9\n",
              "uOKqA1pBllxwx/T82riVt/4MbtGpyshR4XtrceUnNYhGIOV0+cKJ1OwUq879fZ3NbYvywb82y/mp\n",
              "W1IjLx6vIijXYoaoDVeYXGNxRCz0KIac3dJWNBVfWnDp+WJaW2NzeD+EB6ZmmA9JzsGWhbsVDqPS\n",
              "gnK9rAAlTrrR+0Cu1NvCcZWFOiL7W42l9EmEsclzIloasI8SMNp5pSDld0IoQdsXhb1h0TNP0YAA\n",
              "AADMQZ5CeIV/AcYB2pTUVzpaXnGmegBIgbTMGvhpFIoy+Mez+OlNlBpzBCIKYaZRA5MyMEB/jhJm\n",
              "9fHK/0CqLDlWWHpJOqSbQYhPJFGPq0IdiChWj3d0289DA5cLl0+kBF0RRuao0CYV/RrbdcN3vbDS\n",
              "Hozp56VK/A0HDh4n8ONA3jAgjzDk+P+CFIpxsADIE8UTJaVrVNUVw73XP6egkXHl0OrlbwPN6zFR\n",
              "BoEDROqzQtDMVKT9dmQm/GPp2bXeKwp4gqD1/kXZGM1ZVV/xAAAAcQGeYXRCfwI5X3f+PrvnKwXf\n",
              "aQABrpxCSLBhcX5h3Di/cRWfZIE1dElJZP1zCjT+7pSVRyIWwuXqPgsqgWQhgJ5YlPYZtjb7ztVW\n",
              "0pKrc8ivjmMvnvj3G/5h9Pty4JLlNjST/c095HxBrReVAPgZ46mAAAAA8gGeY2pCfwI5FdVfSwaS\n",
              "AAAtN+DYUrUxRoXbBH681u8Kb3QH8VGJ2H6SGle180sCuF30b9zjXklQemUx1CXJnAv8dx18Oop9\n",
              "W2mFn19yNTK30fN3wr8sMYIKpV06HOSqxoA7a/oAVXoFSO4JkDJUXxzMYd7GMl4KbNmgYB+PNdZU\n",
              "p/aAH/6oehu5wWJBh4reRdNP610JB//z6Rbo8DyjSmyjqaXTnFeUhS///Re1dVUSt/IC92RurT8v\n",
              "52SikZLZrRYsPQEv25b3QxC6RqO3ab9weyPLb7wbB57Pg0FCNpt+N30kIg/h4r5T0KKsQGvO0YnB\n",
              "AAAB7EGaZUmoQWiZTAhf//6MsAU3hOe6FX9GVKZnL9saV0TsvtYHJfT3muYAWau0jOnkPUfAyEuN\n",
              "ZAS1nNIHmLJafgD6UfImXuvCXD3xgHbZd5Cwdt3eBE3DwAjYcPv7/0BpIt80s07RT9afEsHtNBqu\n",
              "Ie5GGx6YnOAkD51feh5pJwt4erx2fUhP2jWMFE3qvLLqbV9opJGl64z4zyyjc4IoorhA52HZ8R42\n",
              "PeVzM3IDlI9ZdxdvInhhkaFz0Ec4qOkoeK0cFdSUWzc3xsBOrvoN/+q98nsgKAMr3mRmmROMAHt3\n",
              "kNAzP6gPPFDjRx2iXNjayHj962uujXevH2dEIsZyxzbEOkmfaAPdbXC/eGltHEFFN5Xau4POIsCn\n",
              "6sNJvkS1v6fdaSew5/qfBP49eutT833GsVQsUDdc4wQMI0Y1q6McFmfqh4Q6uzESUhin6F3EAiUa\n",
              "YZgbqzbO/RdqW7jnOEkpMn79tajeRhAgr3hPpNnxGNee/N64wdyb71zeEn1PtDmJ1QzdOUBydRCQ\n",
              "lF9DE1EmNO7zodH4pPdYFaEUGNAqm7/7Bjaz/QbCT9BMdFeqokilBZvbn0bQJJi0ehaoKWXOUMN0\n",
              "r7BS7mYSaF1jinGxzoq5vNdWVM944C73nRApqFMNsC1SUJwlCpjdoQAAAd5BmoZJ4QpSZTAhf/6M\n",
              "sAUP1u3Pk91B4byR1m5v7c7Nen4ABNfu2sUBxk8St5CsrFKXRZIsMnoEO8BGVOS8SL2qiAX1+W36\n",
              "dx44DfVDMy0MfBvu+d4VXhSsXS1jCbKRgANxzHBFTzalBmlDhFZkNqLNntXxaUvPMOXzdJRHqV+a\n",
              "iWEweXJqrMODgbYlkbWGT/vJam21qg7MTdiRx530QlXyDEsOQeAQtrxs8DcgQiOKbX/vIBCZRrUs\n",
              "HeYgwO6JRhbJiC18GDW/5+cBBV7xJLk7Xf3omUY5uN8aFluVadAsASON5d8zmJx5bvkkmeXRzNfR\n",
              "//Kw66GP1hOORo0odMyl7oTHyhLIOhN0ZSqy87MQkkV0hBewUE4XrO7tmUvTSvp0L0hcr0se1kie\n",
              "bHXquLgmr3KSftY6h7oPi1CcfPl73nGZc+P3gnrUcvjQKD+ML5rRhcptgnhDa1pKmn2JDmlIpCUw\n",
              "VEK+eZls9Ma0pcKs2mYe5MOHy1JASoSCEnc/oqI+RsUe6TOzQRrIQ4VslSl9F0C/KxrXeXwHVVAa\n",
              "RLN86DF6mCxs7HSYl8sgqRNRA2rjOWayjDyR9XTm2GU/38PwgAAgIkD4U5SUFgZV8efpDFJS0WgU\n",
              "mtqw5qJDB24FAAADZkGaqUnhDomUwIV//jhAC6e1stZvBj39QWTA/3gXfBk9PvJnwCryAQDymy8D\n",
              "ppmX+s7y6d+X/+NhY2i2od8I/8yxX8NR+qloEumlsAWZXQssZfy7wrnPxrAZ0dDvJz34Y4wo9i6C\n",
              "Sqlf+iWxofgC05LQfdpAfQ6edP9LZc6PMYfAKu6RXXtClIWcIWB+j6Dn2a5dZ5Y2i/+HRGv6XqDQ\n",
              "44YlOoL1lkeRbnDOhaJh//r+8wK3a7l8G0zm3o6Dr+xVcF8dhauCqmz3qPPHTsu1K+VrlebWut01\n",
              "QwrOu6anPqdWnlH+4IA2XIRy+bwRFX4n7NcBr5FwZ7G7+ehNndXXrWWAbQTOzqv0nSUnnhvUZmKi\n",
              "QVSfBGM5j+af4hB4NQGOaEJGCmdEXrPMnmYEA1+bnpNkUD0zLhaneaJw0fa+Ve2qQb1zLsObCeQa\n",
              "NhbtcQahN8CPr3Dk9lPJ5esKhJSvxqPRAtqKBvPCwdzTDP4ytiVEXwfqr6SeHr2BECw9O+ZUPLkC\n",
              "EIqCIHPE9wTKJTBSO0kAAlAIr21/YUEAwtgmTgdcyEidqG0W5oDtFVCNJbvCDUM9Do38SINDS5in\n",
              "em2WHBZ+Ii9tvDQKfWI7ND2Rbr9U7Q5rXBbWeSmuD4dSCPRhSNF3x9R6oHnDj0HULPKEe+Xud+ok\n",
              "hrjWHAsELZAKtFBN161n/ywGhhXTWWl2qMKoFaBT7WyiHjWBsz2pBcFHKyDo5BaDl9clVRUK7ted\n",
              "4YjqkFBcc5s6lx5El45lg3yeM4b6BBgPsdTC/2vKOz7D6GTZfyLH6MtzoiHKWcDgIvLORU/cQjTf\n",
              "Xu+bp0HuUG2vTttxQ5We6chtOg85/dW/di2f8h5IkyblGh1iH1ljbZnGAqElFzRUWgj7PdErY9ne\n",
              "ar+/pxA49OiVWbvQ5ybXpV58moI+LmHgsEZ2aaqQQIx+KqmkuiwR7bEIX0KgMNkO3KLUPbJLdrW5\n",
              "vZPSoZ0zXepSsXrcFewxd8Tb3C7+iyCSuixvggYNBAhSv5tRtVtswVUuFnDC4+5Twb5agtSMVG8S\n",
              "0f5vnVAxwEp73oTnxL9Ybp2FXN44qj9PuBLhVQJrvjFjJYnWfC1i3eo3sbw1oicJgck0py4I57/7\n",
              "nEXAwFD939Pr3lpVHZz26am1OP6dJ4DLFiP7oQAAAcBBnsdFETwr/wCfNG93P504tTkaFLyBUBnl\n",
              "n7S6L/LIABMWSkU6syQsDgO0Lj3/5xn9Epl2NCR1fa5ZhGUNHX+kC8TYaC1ab6L98fkTp5crpRNM\n",
              "svl5SLNPfcyN9ua4wQg1StD+A0x3Tx36ddVVfrBTKq+s52pC3J8Qrpbtv7/laeTEM2DQ9daq9z7/\n",
              "ek3AUF/gGMS62sC1LmpKIzRDcEj9mB4SIkqr0xNLWVQS+FhrF5x/dHN8wJrpg4d9D6/MZ0X0uEAk\n",
              "kIKhp1pDj/4N8fQkSmqCcp7TWssTy5BZrrpaT1dhmokqLGapT3j0tlaio2FDK6VcMkadpouChKPw\n",
              "caYm6Y4n3B+2ePnSMnSWNQUP4goC8iqK4a+txbV6HrNSXekaB8p7z3xkKd5+13jpd7+uVLVXRc6l\n",
              "we3VtOMxiuzqQnP9pbaIDu8hzche6PX//4u6K77rUKZiqTBKt+b678yod0b98mEXktCHrRDocah9\n",
              "g6PPkQAAAwASgfpMjh1reAdOOO4kD7EuVjsEm9PrflE4v1us/5wHiy1qOysaUc7JAZjLzpNSMU2B\n",
              "jnhxc6YS/+A7dFCqxAVpRRzc2bYCxMCPAAABSwGe6GpCfwDOCZBvQBSR1EW04uHR0QAscTpToz1J\n",
              "FE5FD1J1yaWMuq1BDI2eWYwcUSWgrfKMGl+6ZeASqXxEgqEFVq60VTX8+vQwkf900eP9CdP/UZdQ\n",
              "XK3XVEReNmR8t4G7//c3CIgbDxpXZ103l/HKtVFLc8Y8ZyMWENUn6bY/woYHX12+k2UB3x14ZXHQ\n",
              "bBZx887zYatlpKqpMNBepMCw4H3+aHl/xHDudaYWFnQEUash+yPBdZCH6cyMVbawui/zsWnggEF9\n",
              "qxWk8UrYX/keRLcbj0nb+6qRwWB00mGF24hregbpDahE+MyaC5M9ra3pAY7f4vmpWLC0FPL/ZQXJ\n",
              "KtEPxUJixr8t3INWfTw3MY6Z3vD79LeYhD1JraPAcrXmhpDQ+DC9/O8aGa3Wqm/E4hcRJAmpROCS\n",
              "bIrj2bUUtANjeL7cz0JuvIAAAALVQZrsSahBaJlMCE///fEAEG+AcU7zJyWMUJ8IlAnNTQtb9wAT\n",
              "vqOgN2Cedl4XVwR1IP1ieIkxTnHk2qnSjV72fivgPEUx+ixnJzNqU2O5ffpkvpcLTc83YYYmpuUr\n",
              "em2fh8RsdTIHZKmI706PNuKeOOtNNhMlXQrbE9517l0HoCXdU0lByfkd1UhQEFELKkNtlBG7U162\n",
              "Mh6s1enobpOGipF/HUu2OriE0m3eA/41XE0HARVJq+PgU03ISnKT2INr+xCEAx0Ghi2HArDgtbA0\n",
              "39Jm/E5H9knrv1gncOPCYc/haOm1QyYfN3zuucODp1O/EiDxdsaSqoSsiW2dS+z73DL0ng16ZlOw\n",
              "njaWD/HbNvLUfCQ3nDkMz6r6qlP4OyGhOfIWJf602cMRd61HqeyvCTDhuoEUNrbMg7co0Nd5W+jp\n",
              "FeGAbgnRkVNOz3o0qdeqRtBzPG5veqcpW+r4rwDRB22A2BoBuCsfXtzsZAg4hEh+mO2Sjjny3Ink\n",
              "dOrDuRAY6C+Iijn5gMlyRt9s/E+cZLdCEDE0lu9IWszFlGvpIJl3f+Vk2AMvgY8BizEhUpFmtH7I\n",
              "BQy56Pd5vxGY8xUOtKqLkxw0Yp+hQ2G/K6j2DhZN7lueIKqBrNwWonkbgUKP6g2Q4Ibz45v0fCnl\n",
              "rSai0RndoYJPQHgxGMcx+HlAyfYYKHT0TbIzBmO7Auz2Th9iAkqAtVDcpU25EylRFAshVRcOnn61\n",
              "00KOf/VGTSfAkPt8yMRn4+lLRUpKqEnUa25Pk1mrH4CU1MItoHRY0U7tHm+hWp09LoDcqU0LvdDT\n",
              "frANwopWBXCpKysBqOob0nSucnY1ytl8QE4iSOEtqEEUyQ1cdAh/iuaZioJdf4LMO3Ru/MYwQPQa\n",
              "wjtFZyt9Qv20f2a21calSsu1kH2M7vw64d6d4RiOwln1f3147jWZzs0eQBt8J2oxdytoQz8KsSb2\n",
              "1H+4uLEAAAIMQZ8KRREsJ/8AdsJsXPzLqUSjOZYNR+4AiYxdDhcpsMcNkzy5VtHnMXCtsOplUQTF\n",
              "x52h01Kw9lAQg2z6TfqOEjwQcbS7jTdWuxmhJwchgJZUPJ4psXj06T0L2KbdKmh1Zn6bdkkFcGSn\n",
              "2VNWGMxVgfcAtmguYfDJ1sl6bs61Nq/4tlDGBPF6B0r7tqlGZiR7WYRLPdgatE4RDcSdSGPnCyXl\n",
              "gfCC06mtBn2eqnJhYXz0WIqoYQQwT84mKG8ijEt6Qun38SNXDLTwbltkvdONAbYiAU3f/gL+IAug\n",
              "NsahjhQHvAzLfV5PJB/ye04lVKXkQr4ncAmC9AZ7Blu0E1DGeFNlPXSoPTtwFlyNTIOGpCIj68qv\n",
              "r+mWsn3sWE6mNMK63ABxbCiRzgAtwzl6MILp0rsNgHaP6pnEznCTdBWV6uK6090bhVgwKpvK7m2l\n",
              "rN2b9wYIZRrZX7uBrxVFrOC6h6Ctfg6BPpq2jyS/Oq643oar6xFgA6I6oV5BFsrQ5DPvXbzJNESH\n",
              "RZf2Q99T4f36DvQUJ2Kipat1DJr/gDrjvMEpVtjanLlRMIjT6YMxzn8zJeQeYJCOu9swrRWWSqzb\n",
              "e+L5T2v1ZDMxrID8wKO4V7P0ckjRlkv67OR+ndxIcZz/REnT+zrh+UXBExv80uUrCGfD5wjLnJ0U\n",
              "7EZw3lCK8KF0LvhZLHXYtx6RL6AAAAHWAZ8rakJ/AEdiuK1CNtrKAJrxNQ/1u0dsqiEvWY4Ym2r0\n",
              "yZRzMugSLM19CXbswjGojIOeBIbvselkNz4PZqub2gnF9eNzED+Gqy4zAdC+j7RKRTHFxTJT9l7M\n",
              "fuDg2T+oxI73c+fLszT91g8KfM8lhTqv+iPP3r7zJc8o/RZFiBo+UILv7y2ybeER8pgFPWtNep69\n",
              "/0g07iGAvFhQEIqWsFgxR+L0Sl6twg/kD6oAbLLpAOU+JeTsGw0bEnGFJvSaQiYSh07pQ9cxbSMI\n",
              "qLp6i6VVNzhxmbCeWDtxQ6A+xig++Bx2YSo2kTAxo/AIvPw2+bP/TKRZNffNIPWv6mmELZskuET4\n",
              "8slVRhkAtcw2kPpc2u74a+cU0edPIYx7lb5aIzzfueqcqimhfR8/QafP7L+OsgbS6oxBSsOPqGs4\n",
              "eHjCHiLg3mflVnXJFerYQbkFsBwX72gnQFvMDjOW0GOJvLYZRDlA9lloCqqK/NGs6GoGpKZSs69k\n",
              "HzGn7DWoSBvLDnmcZAHYOkr6eqHI5mMVWVEV2X1N5ZSTThpb2EQnZYjtHkfwKQzQ4o9N2iWFygaP\n",
              "ce5wz/qr4aBdYC2KrdySKwBbL7wKvl3hgbj+BlGxELOoaGjRCKAAAAG/QZstSahBbJlMCE///fEA\n",
              "A7npuXzUCt9kIFHXgAVWN2JjMYnxm5Chin6NoHEyhTBYFIg5vVxV1afXCBltAbq8Zx41B/dxgsj1\n",
              "5ioA6LuYNdNXnmuHJf5hb0tFk8bs4iud0KtXdFyeM4TBLl3GeyTVVTflq99TaDQ88DAUEgoCse2d\n",
              "S8IoIgYjssjWZQhhIDFPxBVEtgKp0cEzyY4O2ZlHq4rXzwlnDxjFR+Vhg5tt7kIfE5YrK2WrjWN3\n",
              "1jpYu5XPmXcIWq5Ty3iHEyC4bmcNYraJAhfpQ3Ej0GrH/O0w3kF9BL4BsBciclV2YRNFtnuMG8zr\n",
              "LXNF0tlR6I2y2pwfrMgyAbRG73fFW375n4SgR2kApOib9vcPRkQdfehhh0U1CA/WlxFfjjHiH+lk\n",
              "TIpbd+wxoDidYP/c8aJjVgJuLEKr/W7PLYBjYMXiCX6ALD1Ry/08f9DGpuZANOGaR0iOvVJyFuSx\n",
              "rCLvhf9AeQSbEPltcVsKBTOXQSX9aCgWoSI+vCIRt3pUB5ZgzCx6SE4htJD/kJijYQLMPW/sH6ts\n",
              "GtdTPPFKWbbUlpBjAwvq55wXGjujzKn0JBjHs69LlmbBAAADCEGbUUnhClJlMCE//fEABFuIODm/\n",
              "r1AAqRRdSmcw+eO6lpHt0A008aZnjCPw2HItoP/jyDq3LrWrdM3Cex+b3YwvfBwtpMZXrjtzHlgv\n",
              "6OahH/IECCw4o4h+s90HmnW0a/FGD5nW28a49SvbQRSC4Ll/Ha/h6eq3W7EHR/tpT7xzlMoUjyN3\n",
              "0jrQUZ5Jz7nBGEsR5NGt4JSbWpKOmKb0tnQHXoBx5/H65TpmoPLzqNNlsdOahzoJ0jP3vZrrReFm\n",
              "2fxrZJdkmbYCGKF7ZSYS+z7CdKDsXgKXT45cjOFTht/Izyr9VzZmweT5GENeMsagOUisPFYB1axW\n",
              "gZxHOzzlxUXEt2dCgoC7QPaWTA1AlVd+/bHEpDilRV/Dqcqwia6t6kkzJJX/g63R+BCc8R9RwOvn\n",
              "0/gwMEMN4nE2CzmOBnmtJ37sJsO+eRQdf/ZPTQfxURagqRfORpIRs+1kOKLfO/Np+18Ik5HmKKDr\n",
              "akCEC7aEw/2wFmRV+71vJMzXxmL0QRGOAoQ1YlWjs8sbZWs7mWcdnSg+J+Jw2GLprnTL95vPXwU3\n",
              "mGM7tt3HL5p+08pEf6ExsnEYEafiiigHz3bOHHkONc2yqqArVAZXGYm9WnoO/FnD91Uthuv3tM4e\n",
              "1NchSWq874V5H2Pou1xZAHtg7GSS5rkI6sgBvQUVt9Xw5DXA1Z0PNNABlAb0B/VY0KVRwZnbdYfd\n",
              "CQlncuOuaceULcnGh9Fve2d8ltJUc+m9imyDLgChCpytT43E44SL6UvnQaY42BsRO0qr+siYTK/o\n",
              "lbTvbeXbN3RzEHAnqksek6obwkQwfvOb6WsIgBxhE6TVL6VO87Jy9sY+TTCG0BgVReGRYTTmXwjy\n",
              "WA2MzOBYKoHdIR9D0LU7twy+k9lkjTJ88+vwWxPCGTUAltncK/dEOSRVM4cyqWyVEOpnG8EJGh3M\n",
              "Rjbsh5U/cqAAI8V6KZAD/V0IxpbesiXFDXI13ArqxGjpcN8gSiqTJ5V6A5uQi2MophE49GDo4QUv\n",
              "aKPtZLIF04Z8MqF5Ab/BAAABvkGfb0U0TCv/ABiHQzWnij0FLVBeEvZAFWBDd0pEWPffVHSpgq96\n",
              "+0OJf+9blP2BpINIELso0Z2njjAt7MhQOZSEGtrgHiR3u91tjTKY4m1+p5PBKqAJu43NUKBaEKlp\n",
              "q1LKhJnuGLBLBqweZ96lyzve74xIKOU6HHMcwCoKzOfdg1JyMbZpq1u6DzuBDRuSTzctK15RIAVh\n",
              "u7vUWZjA9KoPFB9DzUYR4sn7LlakPHey3+bsZz1J/F7L0PZ7tXLxDDR37bGnHzKrJaQvF2YYiYJ9\n",
              "7getE3pVu+rvkpfJivBpJ8RkSkjZZQWb80zUHz88qLLAK2ySuoCgNuVXStmiWJ7d2RkjHqmKhQaz\n",
              "6coHX9enIlCzyo3BnGMX3DmKtn5lvdwG+HRDrrY07K4FeRWez+fqW5lkznLGJpsFnvwI8gzw+hrf\n",
              "KTXEpssVO5fdDB2tzN4SrFYlSMfHd/rrhy6n1DFcunxj6cQwhcaIfDJTQYLSMXobm014PVJHaHMQ\n",
              "Ni0f+N2ye4PHmCrGXR+HG+KpURFi55UveQsCt0BdkBqdLkfx04nQ4zm8YCB/q58ucqRF0+DCSQLf\n",
              "jjo4SBnAoC6BAAABUwGfjnRCfwAcTX0pMgm9k9m4AF/w6f8B6C2JrmUH9O0TAms8hiW2ThyHgLQG\n",
              "BsFkYBm3yBf6AX6VK16uDa6AmuuD5PkwIiZn0wFhS7krse5ub9rbP1YOtd6BgL3eqbK5C9aCebQ2\n",
              "Kw6W5FPSZSEEp+dyM0Mzy23woAHzjmpOi3fFakh9GjjwJRneKKf56CCwskjREvyrizqLKLnJrTpr\n",
              "vHTbOhjKZkjXz0xMy0o1lMz89hXuQy8w6X2BVj00XFscDhN5jLB/SQxKFGOOP0ZhatIb9D3g6mgS\n",
              "6uEdS8KzeDq79iyL+/U7a9p7sqIh9wmzfNcUQXrpMHBbYOhmfCflt2Fg5BI18RLMawsYI/ZFbdbp\n",
              "P8RaCLOMzcihGlXaKesizh6xnOe8jwLWCNUqR/81PhsGH6wMoGDF0y5UANr2fnTatNt9IcakXejI\n",
              "gTELmE8lZel5JAAAAPwBn5BqQn8AHxeAqYK9mpE3TS8pYAAGuSNZgQ5UAgV1Y1CBxCOsRwDtErT4\n",
              "VGFczEd/7fdutA7yaWj2MQWHttf7TUGBHvG5a5liGMbddaeDmX+R6SylJDRku6nm+Yfbq+EthuWs\n",
              "L853J1marTcOdMCpKdmgucUz4KfjVeY1vH9Xl9PLxV7vgAtXoAUhl+mhrXFPKdCTQLBNdRx/+iJM\n",
              "zNxW+l5ew3QroBUdoU9FvnwDm7jG8r6PbYAiF+VKC9uyPfTuaEgVyiTL/KjqMr7J+83qID2MZdKB\n",
              "SHucA+GZaRYADJhDPjyWzqwNbl6SIpoDBnjjaOMb/Kf29imHsl0AAAGeQZuSSahBaJlMCE///fEA\n",
              "BHlLyk0XwBVQIIcJxV/afH/K/XlECHvJFrH7xjuBYfG/GRu6KuQbUhuPdV6FoPuQXx/gd9tV2KDd\n",
              "oO7wrvcEWS8rDXw7BnD/iAXg/Jd94v/xVsu4589WLMli2VgNPVdA4XuiYV8rrFz2kAcPSmdRAO8a\n",
              "V/Nm7+ff2d7U+iUFKuLfXq95qxFxsogINdks//NSeAkO3WC/B+x2yBVPQSkhp/x9VMG+u+0nyAVC\n",
              "Zo0CQ0hnDs53eaZITj6hkCe1NNqQrC7lwwj8HaNvzIlNMOlqGf0a/KxKEBMUURbKC8hC6Mp3GTWO\n",
              "F5zIB43/D/tnK2NWteDz13mKZNgzG8fZlF7C1on/WLiX2SFy9i6IhUie6uDMYqxFhpH27YfF9KWU\n",
              "07IcWQFkDzHq9l26KznTsnGgW/A07CRL6YF7XGD+gB0rPXlu/Qbr0BmzG26NlCBXyblgYoRWdHBG\n",
              "g7NTtsnUQ2eWW7hffhMI9zj2N9I/w43Z7ukACij8aFVTI8q3/C2nqKecmEZ9IjxNLFLWg3tlvBmR\n",
              "AAABiEGbs0nhClJlMCE//fEAB2bW4+PlgM8ZlHnM2MxKU8YNpQwXkcQBRPl/iquU142mSf4ytxCM\n",
              "2/cx5ki3Noy3VojK7XWnIbsS8umh4E7ag+WO9uRott0rZGReYK+qROoheOLgkdKpgqTETE3XJeaf\n",
              "lMt2hMQPvvbskCFFjQE35wH/NVEXNAYmAatp8qv992gEdRV2Rlsdzd8Rue19DvJy4FEhUb8ArdbZ\n",
              "u+e/FgTFT39+M9QxQt8E/VZac4ywAdstcHWphy8HS3D1b7LM8JUinbb+ryS1cLSdzyifGnkTrsb6\n",
              "RrLTD1T3wcWnjwESCG/mgCqgwaMCSTeB59HxN+aA4z7E2qnj8ZQYsEn7rK+cdlqZDfpB2v6DOJ48\n",
              "Byg5tdFhzR4meQBUuLnvz1SvKZKi8/BGkqBqS5DbbMIhPspHyWiKBrXzMyBS7F4wVLqvaUYo9YbE\n",
              "ZBViUr9rwTFAwZ7z6qAvU1Wjmv0JdjQ5yz88ZYSDf55vVYJSHAUXbClpfqe/V+hopTkNlqHAAAAC\n",
              "I0Gb10nhDomUwIV//jhACDcS8ExmvAF/iNWfYoJRfKzhiirVl0iUnP1OBQrt2+Pm8x6U3gagDryu\n",
              "tCPm7nP2HxwYI+Y954gtq5+jBjY9Q3cISVxnRWxLzyZD06xYJ/b1yfRIRmmV36O6wHQ1PQJ80cip\n",
              "slsVhQJoCdzx/3lG93dIyXJ8BWLmVeBJT9yz+JrnDYwUFCpwxVYNtv83mntQtTqAhJvDYjveBvcm\n",
              "GijIw6geXv33Cy50FT30ef1+KBaLCTGM+qIf8/3+u1oOF+MyO00PPwvZEajSGrPe9NJoRb6aKkGa\n",
              "NFW2s+iMXefcHOEsAFfNjxOHF7QUXfQz2AdKI7tzdhTyqkqqfVvxeu7ggwGqYvTVvl6/SZFjAGVx\n",
              "OUBFoyd7fjsUffwUA+WMRVku46IA7ZsgF/SCgYzynrhKI87SL3/7q6jGx7+vvFu1MinCu1As4hvO\n",
              "rWXdmdr28fWvi86Gh4eeYoXDIv3nZe6g6WucnlrKVZGdI7Q+4gn95/rVFlqTRU65lMwZ0r3FSKCb\n",
              "TuyvnQRVhF0oGZz5zQkPG6m2WttpOeHE2LYlSCUhPdN4syzAbOkem+O4pvKKe9zhlKZoprdw2GTp\n",
              "MRxS/OLwLJSHX0hDU+/lE884dtszAyR2ReusOL+zY4wXC45gvj1S1zXLXWxxObexJwbdqNTqOkDy\n",
              "2c0MMNpztc/edbkbTVZNXOfM2r7dY0oevXxLKncciieLjMAAAAEyQZ/1RRE8J/8Aku2tTtwyVpXs\n",
              "P/AAizsjbMWIDRuJVGIz0vMjwOTxfHCKR6TqHvQOHYspbTJY8W0lDioOFwJiuymyPD3sJjKNT8Sq\n",
              "JBPex4wvx7eH7a4UKhl47rWaatVNXySpmMR9nyIIrmDjjze2BKzA6e/Wii8F3UwbuyC/PZzdBLkm\n",
              "IKcwh+zQqWKSa8HPeQdiR4yj0VzrWGNJ9BRftT8SWOqrwNJfg9hHLitSMsqGeKIM8yQ0pvn+Q3TN\n",
              "bV2OYEo9HuHVMWT6IZq/S71njtwae+Ub24+pCoEmDbJW9dN4uobTls1p92F9eGZHjmcmOx2ojs4A\n",
              "fbhKhrtn/qHh1dfVyMHW/7K7bWwsVJ/1YfV2X1vNXI7vp4Ys4p0eCVYlxyyAZsh8Ue6NrFep1fd0\n",
              "364FAAAAvQGeFHRCfwBdOjWHZNxg5INB55FJZLdDGIAhbgSSyqznG80lRlltSVZlt5fO1iXKzWRE\n",
              "Aof++VZRQ7+m6fHnuaYRWsBBHlbuuxQX4M0qfsleF3d3F+Mxlbqy9wU/sczHCOp6MVDbRHRsQdfN\n",
              "+lVk5YVm97XBwXkV85W0tPICkBeLMrzVz//fyueJghmxi+cfNOpWkUrXH1Px/ZzvxO2/qCXMTmbl\n",
              "ZN55X/oSzBPW8LrhjQnILehtUD82XoVSlAAAAJoBnhZqQn8Aku2tTuBIB3hAFHxc/fHYvXRrsQV4\n",
              "BIMGNsVrhsLSdU5cChtp72PbERt7NtxfyEBTb0tL5/WBD64OL9l3XulwOCys/a1/uaHyAOcMO7/6\n",
              "ju0YZ7jD+Nwd9gLvAjXn1zXOAdB3mxwP21BXM7PFDDOuq7lJxeL21bShGTP5o81Qd7gSoQePtdj7\n",
              "YSN+Uk+1HxxCipHxAAACgUGaG0moQWiZTAhX//44QA5+quBi7woAo47ybwdLIhxjbEPB4yaISH32\n",
              "XUzux5VQZ136xOfhy+Dzs3qnzIrBDvpDTkIubIWAprGZzkBEpdCTzplpcURMzuVGtipQBqPSfwKQ\n",
              "rGGI15oijQs5aG1xEXZAT1jXwRc62cj67G2R9ArhxVWcQ/sqOCYmWGujzUlcnoMbl0/A7s+QjmIe\n",
              "kaP4W0ftvnDDhkUL1KD+aMS+zkJHoPjoW0AhS28FpbV6SjeHEl3Xy2mlddhecr7Jrm2pHHEEaJrB\n",
              "trbOLsLBu4L/GAmPhX4KCM6mC6jy3mCIZ5ACtQOQ8ibBJGorY2AGbpA6hNkHKyZuUaYg9LzowsYM\n",
              "czQ+J9Z1U5EHq++sNVw8a3zZBIknSU/IsBKzfROdeg+7N28eIoK4eb11AF8D8yzmbNouJEC0S1Pr\n",
              "Ri83g0ZSVJk6wQw9425cXxKyAO7FDqVg953EIirodvj33eilRoJfoDx+HzUl8xDpZgf6jpkLEnHd\n",
              "HOfMk/sPZPf0oigwxuuyLcxDhnYl6qPsxWlw+zArGtzDLYrJ2LtDSajHy5i/P/7ALVpnSOqK6euf\n",
              "cYn+rf/T/Sc1KchmFCCa8ZtzFqNtKw0Hmymr3xYZfK0xVrrrKSf0kIepyVikFwtqYG3DYL6Ymywp\n",
              "pGnZkNKi47JPM9il6vtNmwKtqZPEhpymf8wFVGF5P2sn2958tsTku6UHSikC0tlGs/yWAF40MwzI\n",
              "cJr/3M9Po7ODZ3uChqJJE8qn5xutgS+ptl9okQ0SEtjZaLKhpc/WWI6M+GDTFYgWAvWZ1Hf+0I6p\n",
              "Fx+SiXB3bIHeulMoyDvQAVBf7vNXiwm/Www86guBAAAA60GeOUURLCv/AMi/ykbbrPcMqx2LNbzv\n",
              "3+bmgCJvI6VQiYnZNBb3/DJb169CCFg+EFfdxun6Ta1jbD/uavW7PFXeNnDEvK3doA2yVbeBekJU\n",
              "Gd9ZPSZLpyB55iF4iSidUNPa01fbGE9dEe5T/ZTADGFmGeD6tFlxjkl1m+DxCgaiTIwAZlOsJYp3\n",
              "pjp/ZuOQocBR4wuRFlX/L9SKtkvR4QKY4NGn+OpoJTK6tXLGFInnw26Ch6LB6njFSXXdwDUGRGdA\n",
              "qEPG8hneTrjiDsVnE7U23Cli97WdShnP4op1snK/0LbDBSfRW+GXNNAAAACXAZ5YdEJ/AJqtaEJ5\n",
              "HCJQc/S7m6E5iaF2HcGtTExo/kYGh80deIBKl775bD8mfSqVH9WPjsrD3Eil8was55RF9mD8iEoS\n",
              "f0TFZqtFU8GJndejzKreawswXUy6A/9lnJg8ZIlpF2nr9UWHAOgez4OLBV4mN3X66jnaTBsi9buo\n",
              "Z/toCaeQ2hD29as0Ev72cCSBFJ4EGL0v4QAAAHgBnlpqQn8A/kKwz3IYlHBB5Rl2MUKlO1c7+Xz3\n",
              "hgsSeIZgitGTYmGM/umZeN3phfvPVOQskEBcgAxXpH8NBrcY/9Klwbnpm+iZB7U1DMVaneJ3WWjG\n",
              "gNPW+gzshw1VuY4EZQReAAe95emadtXPF+wt6k2V++0ziJwAAABrQZpfSahBbJlMCE///fEAI9MV\n",
              "WCXrLgJ4zlJyYYXq76qH2q8BtiIoxdNiAhdwGkOyqrDNID7BWLRMOL/5vD33XZkbZ/ThtFQ2tgge\n",
              "Y3K8CGFURNWudmlqrfaVSGqFTszHQ9sP4XF/bDG5JEEAAADCQZ59RRUsK/8AxgTw3zhfSYUvAxEr\n",
              "SMzl5ivHoBYq5BfV7SRAFN30KuUtLuAFq8XipFnBhBcao/+3amsLPJHn8zJzD6piK7zeyiYkHvbu\n",
              "WqbzPsPVF7HoME/e8bMP2o+FYbMhYrZJQnXGL7I7I9t67XkzJyIUeP2HYBmfNJloXzuw+O/RHaJ0\n",
              "eaG/ua0FrrgGdBm/VI4VDSXKgYos5PEBcikKPZHdjeg8sIMFbr7UBAa/F5Vl4UunudIO6Xh6szU5\n",
              "1WkAAABCAZ6cdEJ/AP3Y9gvILqnK48gBbQzLGJyprFe8FM+ss4tmwGGmoC39bpZinGLNqULvL6aq\n",
              "mtwdzN7BuYdBFRuq8d9MAAAAVQGenmpCfwD+L+SRvAPivznefcQGrBkWJOlQXkxa6e+pcEjrbf5S\n",
              "V3fKnK85KCzqYAFWQvu0AMLDpu/E9aPAy3uHd1aXOO1wrOcC7c7MJMxM26yR0oAAAAFeQZqCSahB\n",
              "bJlMCE///fEAI/8AvvMwxl4RDxAUHkY2ZtH9bpuQcYmiEqyqTANyUSawgnSb32gbh1mB1AkOqr1+\n",
              "YS7mrtiL7eaWi8r7kVnlV6gsVHKjtx5UxVIusICttcL/P4doPCz18V5W7wOvdqXrWB0toSvuGvDV\n",
              "bPUjK3pxI+T0YYSEEalE1XRDXbLl6oDAstr+VGaO5fZhnuICXs29MPGfL3WPLsn9H3hFnUy0GeKg\n",
              "whQrlW7gK3W93eJvOOG7L/CAcyJuw4GqSzUnOW6mLnFcchMGym2WkEcgJUMxc7Y05xYNjnLtxUD0\n",
              "BaWnreZusYIhMUqMTBtz9PTmAV9bfdBXPIEBvtEkqJKfVDke24kCEtkunjbDJMXlZFzQas4UkdYP\n",
              "rulGJgcsdEx2TobxV8IZytXWssSOuMLxrPVdU8v6ezfWo5Qo6yQyivQlazxJSiYdQ6p4PtuXv55z\n",
              "EHkAAACkQZ6gRRUsJ/8A/hauYaaiBRiKgXoAborpzqdxSSlrDnQ0EdFwHwm4shhiqFeqEMjL5O9F\n",
              "gmYptojPU2EVT4gLdp1cFXiEvkOeosfLoQmdINuii8d67oHtBPCn+8XflGEkrK1C/kEiugWA6pyd\n",
              "/ZGWmXkBc/b+AORJ9XW7IZB2AaKmOd8ARXAAWwgyJ55fHsBKDHixT3y25qzRGdiXTD9fqqT61jgA\n",
              "AACZAZ7BakJ/AJpIuxybZ5kH//2uiTxAFQX2MOLyoU0bCIO0xgF8wDMxmK8ckva2cy72mTtP7m4E\n",
              "C925NP6aIRqGkssdSEXXmoL1SPM59c7D8Mv5iUbYHcXlTSHPjjSQ4YvTIkGQac1r2418tmEq9tps\n",
              "FVzTnkffqg3oB+LxEaPcef+2Tn1/9ZwCFHUFuKrY09wNn5ug3TsWvjPBAAABtUGaxUmoQWyZTAhP\n",
              "//3xABWvYh95EYL9uiIuEIb3CJcew1cLEEFD5pq2HL7a2Ns0b5VQ6gQFluP95clrkipvuRdP0TEM\n",
              "3OuOnDtNhvI7Rjgz3Dlx7fY1/qTB2cAvGcKQasiz+gKM9c4y2xQkwcTxS31fbKuPOKkSomDzD+w2\n",
              "BylzYlFSKEjzKyKZiaRHrxAzKIUW4PsG6zyL5Hrw1JY+I3wAN1BEoenrlCOA6ghyLvvVX7TevMdw\n",
              "gmILRs0xs1o4v6Ckie3i7wmgvARTvLqcYlXD7dHXtp7ENei+rNWjrLCYToQWNEna7OxThcdkMBHE\n",
              "O02zN8eiZ59l8lTWltlvbFz+ZacYQf96OE6ZDdKA9x+oYyYGnCSw8WONbx4BcKp+nuAxY+R1/Eiz\n",
              "0CZmSJVYWxHo58dJmq9qM/vcU4f7OLTVXkbpUwM72IlIaofW8IlhJsVF0EQkS/etT7WRb9SWCUld\n",
              "2DQOV9+Nhv9Hhk1MrFCdG5p4J9WxFnDsseZAGk847lSUsskzMwftFOyOeaCEbi25RkJob/6zgJWl\n",
              "J69yUP0yn3sGA1O80SwzpYXrzuatCk/XGEsQAAAA4EGe40UVLCv/AHbHlgQyA/VjVXxzLbbaqdgA\n",
              "KvvYovNgiLcYvfUk6oyRR68hiL7bO6sZ0YpYHWD+27qfqyWbccIOKPBaIgm+vvBGKUa4/0FV8+Gw\n",
              "CWFVOeTDpflhJvuGYDZcXale5SdGdUFRue7I3DyFYwvYWDrU8lFXsGngCt+QMP9GPo7iEBAtIVtJ\n",
              "nn/OzrNOPa0UcOYOOCsBJHoEeBwVGcHvcAzfZaIzMjrinR0AKYzu+8qJHjiGqqldaVTKcyyL4fjz\n",
              "nNGD5kLUYE+KEi5VFJ+rqxtOy/vUCUwhl92tAAAAjgGfBGpCfwCWxXGKoUDqprb9Tmi1seFUpxyH\n",
              "cjUYX6lx+WtSdI3nu7FTnNCxdkCM57uo356faWTFpo6czRQjgtnXnz3OYEgU5b/+AIa1WHYWx5yf\n",
              "xr3+D6T7Muj0mXH1FRR59ftB6cD5RMzNeFSjB1Q5lxFVPk4V73Fuj75ZypTCmSbKohGWzn//V5hx\n",
              "mZcAAAJtQZsJSahBbJlMCFf//jhABSPa2WttTN28UmqqD46rdDloQCa93bnO1LYMMIRk/N7DSMnP\n",
              "BIed1RY5a9f91sD5+A1BtZkJ1Vr6zGozdRhGVpiMdajstysbF43TwgOxKSwBNRjIJ5BhHPpqip2x\n",
              "P9BkPBrusc2ix3gLU+GG+7nhL0wPbRL6aWGdU6iigplXyuOA2E1FUpaZG74riqBiI+ouJLc7CCdR\n",
              "lzIAy/gZ/RLmJ2dNEWGj3W8unMi2Xfj3fhRmgbdooWvxhqVJ5lzGsTLZJCM6GAEmqtecAmeiSHHt\n",
              "FBd57QlZ8ngr4dkOxx0FgiFemLyW0OpYspD7iUbPkAPSX6H1QRCfD8iML2v3j/5RQ6K30EcW3lAc\n",
              "sFMJwoPAW9y+cJ8EWmmVzvwtyk/axFLfQejyk89JNFOxL3bVS7F63iPy+Q1JIqevsXM8Sv81jiqx\n",
              "8OFls4AOddffaVha8eUxU7l3kSegEuHxc+xBkonk/bi4XK60vMPBwggOIYsrU8EXv0ZWG1ssLin9\n",
              "VRAgZ6BHLQqwWYPtW17MyIsXdoRaVbzNIPX+TNgOFFyoAuZevb6Q9EIfDOIELOMPKnopGGpyrRPN\n",
              "trX2zWn618QI3n6lSRC8dG9Tt1pqY0/RYHpew60/ndr1xORQdEVXrMRsZabfnYDMmpnpS2f+CQp8\n",
              "j4L1MmHontjuUWWwHPKx0kaeQctctPnNX2dMgHFnIWQuLkKGjhY0ZI28Zg6RhgE5sdmjMHYzv8HI\n",
              "0fuP79pLxuK2zXup1Vtroj8mgm370cMaxQDss34ucUQ5/DeueHdoOLFUZL/uAovbIq74Z59o0KdB\n",
              "AAABsUGfJ0UVLCv/AEVkJ7ZUzuneLjSyKADoFTsIu1BuQBHXlUO1HTqThgJA2WpexS0C2PW9qLYl\n",
              "zTh2Ie4xcBSsXyvXkUex5gdONk619ffXWFBsJgow+JA5GmY8yYbpStWdA0yUBXWz3mrGMV/TWPG6\n",
              "gFS1E188pk8ZBmJeA+WM25EGcpdxghKrMaxuXgAMC3eDnRWWg1421KOZzw9qOZrIOT3sQ/1LBoyp\n",
              "Yrxc0WKmmwc8XlRWfT866Q/PVE8anHGUDRBiuzYGD8zNBB4746kHDZcDGvY46nd1z8eyrOKQGW5T\n",
              "6gXoLayfN5fq9V883LTHRyJJJLCDmKYcbPIMi7wjKVFSN1CJcAFAC6qsqLT8d67tUMzeygVeSfC/\n",
              "RWou5IPfgmHjfs1BNGl+1rpsWmi/Ao8nKE/YxQXJSWWrJy9wg3zIz80cDxH6JPmpwia6GqN5ZITw\n",
              "mFPZuWtAxFTPOqJ255Ust4ux9+8Mj2Q9pqBBkTdqlAoujDQZXbjsy1oH6TXdWr28KkVaAG1B74tZ\n",
              "6/taOTkIcheV9yxG/7IfE863Abl3evfO8fSflsuiAhqiAQnu7okAAACrAZ9GdEJ/AFrRT0YNEEYg\n",
              "2AA++h13EAQQn5WxUPKepkcsAbnuYaY9srawS8x22SIObbYTcfCcY1rI3Hyvl3s69kMc4sZh9nVQ\n",
              "44Hzc1a1Ahuz+/Y6Xq7iEJMCgk79rnGcUvW34v/nR3Jd57k0Cxt9e4ArB7pE5gNCUgpKdKGYMwBG\n",
              "iZ4EzVJKhrvXZwzrdwzK45hFhKbCVgsQBaRAW19CZNBTrOzsEeX1ufOAAAAA/wGfSGpCfwA2AmSg\n",
              "VMLdajFWYYV0k6HsBCruxWQk2gRM9q0BCGar6BqlADEUH+8AA2W9R3BG0LsgLHjJyld67uatwbwY\n",
              "dPWGabq/Whs95Afj/jU70fQr7YXnkV2bc0sNHUNsofv5CbEnAOyqhvtrrp9IRQhoFxvr8CcRKjvf\n",
              "IbQuo9FclxOEQ90AcwPG5/wFdFHXp/Z8Fqqc4W66ZHutdWRu4irvHykjmHU1tBkXLGrz5g/bkAum\n",
              "l8/WWQcDzSFjXCPfx/E5HypQDy+8MVp0jUVxLYST/dq5ZKplLpAnmyXdEy3HRofDWOmbycnfhooP\n",
              "mfPnMcMGzelA3YDfNCrnwAAAAfxBm0xJqEFsmUwIT//98QAEW+AY3mj6O2Oq8yYkQhqKIgBmsmwk\n",
              "XhiF3lgmkTyxa5EdSm6WDEOX/z/F2IRehepKOxDJcNMCTRXEuAUUzCVTj7csD0JMSwd+wrvrEeLe\n",
              "nXI1pTOlZ8gDi8XbpeKolg/tbzCJDvWoalD0mljzUAJ6inrvKAiCxVv+2d8nfeZAwZ4hRtzWhM3y\n",
              "3WUvGEBFWFUsl9a/ExcmAwkIU0uneLB9W/4TQg0HsZt4e745GRd6Q+APIqetCMh7/kjgFbiw2G0X\n",
              "prpzE3MLiFjfaiDw4u+G4+jhey80y56nTd5PfG3mwhAd3moCEM51bOwCTfjfNlJbxzmITxJKD6ed\n",
              "pM4qu8yxYkfmEe47cA6W1giDov/XW4SZdStbS0GnkPp0bwu3Y2lk1q4OMHbjAE56S2FUjzimBQTF\n",
              "/E9QTyb/HLPyG206y+aNhHHqyDPg+hyg90zL4jPBpsnsEn589MrrseUmsuba6WU0jB1WrhIq94s+\n",
              "1vMEfTSNCHsKsxHixLTgHs8YBtQhQa0qCa6NMfn4YVz8lv9Ox9bwXxOTmVfe1/hWH6r1JearEzQ4\n",
              "SDgj4jYqN2PpAMLAyen0hrh6CRmH+swkBNpdPRzZDpqa560buVnZnOsJEskgULEysHOvPmg0PyD1\n",
              "vlm8JYDPxAYaTt4PCt/RAAABOEGfakUVLCv/ABiB/qLQHfKGe6nPU/Sa7ND+IAWdrY1BRD1XQxi2\n",
              "gAjUJpMsR4OHCAKrB/sCznJwZNXenvTNlUSRnAJ7Ey9c/eXbDvlBbEWrt7GSGZef+keniwHRa557\n",
              "neKsMoKNhU+D5BpnDxlA+085DWtSq3rQlFVxA/tQ6+9rLJy6tZ/RpCmRNZWpt3m8tYZ+ncwVeIyq\n",
              "Ypo/Ximc512BLZNujnnl97w66rPuPqTxNRKMW+M4KUwADIve409jCNYK5xuR1rVutqQ63cpxStB+\n",
              "tQ1zCArR7wgEuEQxA8PHJaKTDEwbCUu6QtbpZpTujEzGaQBnKpDqJArHeYefRyQNO+k6/TVaGdLF\n",
              "qmQw2D7yfHpylUEhWiqLsKEGrshlVarrtlU3KrJGEn97qhmUpQwVJInUB+ktSAAAASABn4tqQn8A\n",
              "HbeQR3cyNDp5/toZEAIoNgEYGh2KWlL9P7Rt3ws9fWH9KuVcP6Ldcxfop8u75zrmD6eQVfmtkb1y\n",
              "JPTt/M2aMZR0getD8I8mMhvLQHN6kCGNPxSo5oY3BtP3OpS26VsZYYHLfDG3x4xSwPt9tbCYbDG5\n",
              "1qjh7hQxx/2tJDYOJh/wIAebMLOwbYkrb20V03gaYNbbMe6Wl8uAmxdqyRe9Rr7ZI/rB/gfMSPe8\n",
              "L3T9wWvgGEdTiFmVEnLlk1F+4gJiLpk8o1XWaiAOW207TAeA/avXlI9pT3LFhQklc08zsVXht1oD\n",
              "nackCHsifxmtDLyJwFVmInJJzVsrt2C78dAojCkwKURfDlP62Dvs61uRTtJ810uz/akYWaAAAAOu\n",
              "QZuPSahBbJlMCE///fEABifC+lvt8O/XpaXqMyO9IgQMMEw7BjleIQ8rUegiFkmTTupxsDQslgHg\n",
              "7edkvEJjTAqwiinf4vILlU6H+mbjgDnAYvAHCB2YPhrXbkvFOGqvU4KITrW3SVIVPtInrlKsLMrG\n",
              "qfnGsGRWHNsF2/BXju5gTAW349dKLTojBYTsnP+TR9Igz3fpaw6FmlHZeVCufmP8/XxVZSydGRoy\n",
              "8hEtMg9tVDhAhmSSEgiihyYNwUnuBOr16EbrSJtA/RDeWCOIV2r91rezlWW6uhaH1ixzs1tuaF40\n",
              "WBe0cwpc7LNSDNehU8T57nSUSsK9NhvACIlNI+2CpplEMahEDkiC7JGqn2Tq+vEkoYl4nZ01+Vux\n",
              "RV4uJCVLg7uuqoDL0phKryNVkO8+ngfV/14jEGNzZ78mygyPIsUha/m3UZ4souqfJSTs4lN9ls0R\n",
              "7iThH+GuexDu8rRo70dTeR3/yYc9as/qVaLazTf5xTQd1SOFfiFs2MCXZbPXPxV0RlJQnAMMlHBa\n",
              "Iv8eDJz0QU77BU+dAqW90zVfowIMTYLwrhEM7JqG14faqgtur3/kzCqjqVFxVcaQd0UsfO5dgmz8\n",
              "lHUWu2LNPX/5CqpO1LF/nRJ/bbT9iRv/ZRSErMTy0Pad4CVMZk4a5Lr6mywXxuujS4SRvxDb83Nv\n",
              "Ai6gnxTfsdEqIUlRBDiuPf373PDAGPL+BXleZFHAjp3bCt+iBi/X7n6v1mX1Hph0PxRdintgP4F9\n",
              "gPIYC0SuJ+PusgSlQxuxAH8ZqCOITxWcyOMdG3OVwZd46MiuOr3nwIgKxc40IyB+lyuckj/LvJ4d\n",
              "Q3/I6Z1zWqtl81G7SV4NCtUaKdq1S2pxbz9TRHCQWVCQHhUiww2KqBF876hae1F55lFA+81Igtx/\n",
              "aZJy+OD1jRK8MRZY7S7LXM5puCS4M65IfhLb4Wq1iqyLa72IwQZxp3B1F3QmCU4tChviiO1zuMbs\n",
              "BuTVQZjMTSp3pB3bOnEiosXVQ2QJ/bh6YBqiCcrVZ7efE07JYzJAKMyx/ZGRkcYvZSxZljORB/B2\n",
              "kn9EQomzTXSYCm4WlEqT0lv3fgfMjkk3yo0K2u/jY1hSsIuhR8FyYB9/WKF02FrOMYiFjhhDFNfB\n",
              "V1q+YP4WYZWRd3OFsDgAA2MGUzPcsdGLBoRzFPLasWN7H67+NCMj+v9V0oD/Dp+wGIx8kPWRrIxW\n",
              "EoG9dBkqE+5PPwhPIWOe0RADB4A9fA0qcfLQQl35AAABf0GfrUUVLCv/ACG67lR5LfyyxRRTBjp8\n",
              "AAEuezkjxy0nGXIXXRuZ8guyGbLMKbYhSZNZ7E0ifmP7qdKX262nFkbjbSb+d7O7SrPG+v4j0Nzz\n",
              "8kVDfig+o0rgXzbXB2zNZK4qoGfFVSJKzXkftDPSRmE0tyTCh5yJERe3akvXs9TSGAhX/rgwWYOb\n",
              "kpoR14N6zmOivMv5YJdgTT/x+7Z30+mAgXoIZkWuZTgKGlMQyk4PD6whTujV1CkAJEs6DveHl9+g\n",
              "ZocD4Rn3m7bX3Eeo62t5mHgdbYdEXUtr8h5q7DILhuGwP11HduQXXo135uEdQSiPJyJp2pc+pgSw\n",
              "4kGEFZWTh4iVpdoEIZm+Lffa72wrk1nZcsU0SxnO8b5HpXMtAu9YRfuLCYGY02Uxlw3NyzbvGHWk\n",
              "f6IBH9WsNPuGIttV4/nBURcq+02k7lYKnY0AMUQo80EwMfGB4nPYwoET032d0pjfEmbq7vu0jkHN\n",
              "qmOt0jV8ST+F9p4bX2ck4EuBAAABtAGfzmpCfwAsVuszxZFdZCIutTzcaOqvqAG5u69pHdz9gpbY\n",
              "Lb4ZEgOLRzSMgxo6UIh6zCeS6IN3y3fBDBnAWfIRCbPgB1sM8DlivVHrEcf0yR05M1GHT3tH58V6\n",
              "6OLQrWs7cMZYmIpfDxHgoXmI+Ip73dEakoHI+wINXIBR1d+hupvQDHVW8zsdECb3Vcz1YvytNfEA\n",
              "XnS6cfUMM/K0URuacxpVow0MBbTUcdgB+aJIBJfnU+tHqknpV2LhgTLJg40ut5Uypqn3v21Qfdfw\n",
              "9QryUGAecEN9KqBSJKTyPc8O/guqXsQGDTZs6HunVxL51U5CTInu0GMr+YrZqPCTMk2+RpGcghme\n",
              "TcsWwi8CSQSCNVNNGluRVOxIa87ij6ITE0uSxUTzWIOw7tg4ud/UXI4tg0OxF8DB8FgS/SIlrhhF\n",
              "WUzEohSVOOQKblrlXB0i3tVi5Od7CTQp4lFqhBk8d8KQxOSiL+bM9A/24UpQl+alleG8Wj2aFqoR\n",
              "It0VoOBTgmOpe0P2PK5Lt0sKT3HOop3IWOnKLYG40wmvmrHlRbqpYiIf3YKFx2ba19A82ompczKP\n",
              "aoEAAAK1QZvQSahBbJlMCE///fEACf7q4EeOAFrLHXenBy22NHVDz6Bom0DqOof7cMTtafkY3+Uu\n",
              "3uJeGtT5FRbHdwIzay8E/XAHZMqJwZtJ97ruaYEz2lTymZTWoaQl0wK/p5aMDEDJ5wFpZpUFJGMQ\n",
              "dzF4k/Lpt9z4Upcyo9VRa/uBJHRF+/DKPtV3nyWvZQKeRIACx3ByfiEvYQ2uKA11RLvDT1ledsUL\n",
              "ylWxv2mKVuZPgfBLGTVceOtVbdejVt3ESdu7ty9veg7A0OaleUZN9sTWIm77v67L8ktb1z/3B6Mr\n",
              "todqTnclEc5K2Jxh2lzD1Nv53nU8MneAvR4W8OYvd3vZMBZKKby/TyEpvFuFcUDUHKDM+3bi3wIx\n",
              "hdUhtYTAGBetencjdOO78WygLOHQZa9ArokTudbivkJBssJ/lXjAK/qsHw327KScmKD9SMDb/L0s\n",
              "oGdoC41Gb/Tss205B6wb+W7EZ8nM2GV8diFOri2NhWPyuNem1+/8xOWpPgfCfp2hyy7KmbByVfUl\n",
              "8v67kfGKtrlKOKNP1NUQlfQ5GnbA1vZ0gaq+gfBz+AsphDidfgoJSzxJgYF4drV0kyhPqNrSnn3f\n",
              "TEm2/MZUNxd9pWrHOa1+AQR8teI8aTW7dZHsNf4gy4866GGuau7co7LQCxqYEMd7zC3LpgHx1cZZ\n",
              "+JEK+pnc9EzXUxQ4I4ydCYM9Enh0pqcNz8aCVZV2OPu1PLU4MP9ZWeySknk4xKK0VqssIIvwAQFn\n",
              "eZufljd0GY6LnyC4Qc7uTa669NdrM9dWzdanGcP/E1jn1FraouXRrI9D3szgKbje1i1nvnI+LXhO\n",
              "ZNlVs2KOo1t48VB1eN+mfKoC0O/tqiNXo6KYQXBGgWqccWR36hC8KmgmbUgNJZEkLiObInWCI206\n",
              "NHoVPupAm4RBH6dVTlEEAAAD6EGb8knhClJlMFFSw3/+p4QA5/sqNJVZ/CCS/kALD7afUFG8RwNj\n",
              "bzai5xJS80Od1Ifgyas9IWovdl3gdfLuRcz2RD7YlXBwfPpdpZ2S0XGrY8lsVPoTN/nOdzMEGYtP\n",
              "C7z3gvnakjtAO2Tr1rqb7HyYaE0BbsIZuMg9BydXxRcPKBLm7KsvcSA/2JKqu0NtV7qS4UpNWTQ0\n",
              "RFxCOgd3IjONj/0cX6a9mxHDIv6gkQ8oE0oNvY3+qZPwxXNTIIFE6/RbhW21/SxHhy24VQVxZTX4\n",
              "dbfiZPrV/cR/5NEUNQQK+hco8o93uwFO5+Q30elAGfky1VjYLAO9PeFSyAEbYZ09ud69AUXjOm2u\n",
              "G9jVf4ZSrijQbrW8myjoM01KaKsRSihTUEcxecGY8CV86QXeK5LphQATbso+222YGCqsozGo0Ubb\n",
              "DmpqsRF+gzdk1vP0YtJArPuELijZTWUDceDeszOdWRGX5Mc15ZZaGTc8yaCzk9Vl9AAQkWLyQ59K\n",
              "GbnFi2RAILdWClBmBJYgHx0YTeY7eG2XrWJCLOjVYIOZWqm3b7QkHkIEut7Vum1TFDZ/bMIsCMcy\n",
              "1a4Z1AsXXihr1VAuapY4RzKpZK5yewVtSnl+WiBiBlysV+47Ck8m8uyKe+FNWbi8BwBBemZK+GQ7\n",
              "TnFKpgPK7aVIrhhOhRwFJnTIng4OyUGQfbR5M7pYxq4nCFH6NoN7HwBG18Eaclq4bhW47zSamYuZ\n",
              "mx01cwSOdn0sxTz7/yLJF6wrnDRJnWVpRLrxn3KjCOn4ihHXagSqddxHnkBw0e/mr2oyygbk75xR\n",
              "Um/WYOpiwVnamrB5g9ePmoeRYJaO+4U2dOvHj5Kw1x9CrCs+6yecNK2Y6+fZHiZ4uV6jAdfXajJ9\n",
              "uGKw8lQmItOv4JvV5nXv3NSj+h5JZyUATVVECBSDq/AqcjnnQJt7Sh28KUV6rRSzlZ8iLfWH27+S\n",
              "vBEuMJfutTDhcno+MLuNTiKhP42wq1SzJvSCe5tre72FPTJQHToGsbHX9cLglUL4MNtnerKNnPeF\n",
              "UYVAfbYacJngIWvgTSLjM+UEYsjiZmnlJ4lh/XaBqy07QHkteDU3+Ztnd7JBdkQLnrN2Pk7dwChQ\n",
              "nIEDmGzkJ1tLzrmLf28EbinYRvwEjQM5rkzr6UllRWvtwTbO+NQmxbCPoMUJ/UR219hrE0dnG9z5\n",
              "tLmEffTUeIrUdwuTvPawZFeQWLhKvL/A36QHrls68ZQkTY0lv3NLIwbHWuoVOfXO7kACREGoltsE\n",
              "UNDDBB0CzWU8gZi5GpqMOWuutkXddDPbFnRBsLrw4eTPETelSh4U0vFJK5s9coQ7f8sAAAFzAZ4R\n",
              "akJ/APMFNU+L/ifPlQC/W2iwwVYS/eQA2TTmf81eMnS84XxppAnhPLYBpLERxjVqh5pWAYXMWb33\n",
              "+Dy+zpxGf4NDKV8TCePFCWXaxnE417VDg48bhLkbmYRn6s/qYcaeDlYeW/miRQtiNkdXAWkUnpq2\n",
              "wFFo1SrPMltRxyW/m8M397vzeGFjI0Ih2mKGk2HG8s/Akup2iyVqHbjU7OCesDavBz4J6I5SYQa+\n",
              "9nhhozKzDBVJ4MwYyB8gufrA6Rj2Qw2g18KgSymWZqe9ako3RCRN/WK73jYotivhzfoZOb9QKvTd\n",
              "vcRuPKcx+DipqMGJG6tgyuPg6716cb7QrxC1blHvGQzvZRVTk0KmTHlN12tTpgwpJjpPmHfgXbAs\n",
              "cJgq5DGTDuHPK9sMYSbDJ0TJ4kr0iLMPaAC6++FgeKWH1AszwN78+KsuG973i6dVGbERdGmivy4o\n",
              "FMGi51mOH6GVDD7yDibF88o4y6117ckCXk0AAATVQZoVSeEOiZTAhn/+nhAE948+FJRaJgCJjzk0\n",
              "yN1ju8MRj2ssl7Hkrwswu8B8CYb6ARoJlW0LkS53CN/Ae8KasUCS7RCZi/Dcephd+NDWCRG0qSxz\n",
              "dOtC68OuktbevAYQ99vhlQdzmIM8qjbomUzn63BnaC+p9ZNoUVMZa8MlGJL6BL9PXVqt7gRoFbIQ\n",
              "CI6z2hkkFbpfaZXs7GMF+9gnrVmc7mUs32eFGLJQLA6Amh3rzq2ApfzngDApNDqb/o8+8xng+gho\n",
              "bpXVrn4/aGNmN0Zrq5mo97ofdv0G3Gmh1lKqvjuw5rmBY/AMrsH5E+pYy6tq0zex7JzRg4CTOv6P\n",
              "qD0Smy/PDp+latApDCuyMxElunLKbHsVUUp7YgcQGuclP9FKQQbwSL+gWAHPgYx6gPD8TjI7xiYb\n",
              "a7SAgRVcHlPJBtJIt65r3pub6wihSQr7CRM7fA+1EJKBJFKPb5eVFcyTqCn+KldbPydbMOHsYMZk\n",
              "LCqrsbmBasrjvVR02Eu+k3NzoyXqNfLncPt4V7hJBBUQLcGRi7e+vyMnvBKChfc9fMmXo6yOvZGT\n",
              "x6Eatm9VdgskXSwXZBo0KEapn9RZz6gBpdKmbZpczdrc6ss6eL2B/YTwM9SrwUMAH+7wDHdXxSew\n",
              "0MzHAb4OlcUBeMlTpJJ0OJUHpDT2/UBr3a39xRnL1QYKunKp+Iu9a4E2fdr5LGjQt+m38HuN+GZv\n",
              "0HVD6IQgxZtZtrNrXogkX5BoKFWzaRUV4JdwzSri3blybwzf/2PS5DUuzKwAksZIjEHYawfX2yoc\n",
              "UTTJL3w4uyb1CYx5768Didc8F+qa7rCCl4Q+XjVZeNfMCQCrKeCslL/01GZyVW7GwHncCh5icFzO\n",
              "GodzR1QWqiZei9aDC5OkjhzglOUnL9fPKOe6nvtlIezX9teTBEpqkA7fB1NtlM4O+DELdnbkhGSc\n",
              "gwY1R5V8Rhtx+xGTck2EhJeBBi4gEg21YtZlVxWQu8UQqvEF57kX4boZtBdpMWrCDMcQ+sUBL5LA\n",
              "gc7lPODzvC6AIMQvktABfmmJhkWhvzN/XRgrVSSAdgmtzpG9cCiIEjoNkIkCoR772qJoziyzezdZ\n",
              "cT0CneljuMauxXaIgvjDIMde+BENLGSZ3h1tKy+ppUHU3ptsyGUBLTPPJHO9XHq/RdQr8nuPCGRb\n",
              "LQJyT+hhvbJbyScvxi9VBDI0CGWpjmB40XYt2kt1m/yjewV64sC4iFJVkgQF4KwILQigrbpE0GoH\n",
              "A+MEKJ1hDvo44cqT/WJy9VOfDHVJodWj61FcQlMMZmv8PsRwQBCPwlsNMhli1OM6UfqIUtzKVNAe\n",
              "XVZ9RzKcGHHaZRrg3s/lebw2cg9y4DRGHgDr62vQw+jIs0ylXejJtgCfkFu3I4NZSDzzcyxnWgvT\n",
              "G0stA2k3+12qXuSh46Awf0bq1smpHPY3Z7MxF19zkhxHDk9Dnt1DkvlUZB1iPCga9LsXmRKa2yjK\n",
              "q91+Xf00Y9txWDtyWP5XPBlNMNg3oyJVpdflcyl42ouV5Me9Es8bGyrdPgy+toRwtmzUbINfO1Fs\n",
              "sR91JfJ+tfgNnU7GMEJOjvuSr+skb+9hwFlIq5HpvUGNeit1YR69Dg+xNNAoP14VfSuk1wXCv4m7\n",
              "UK6J7tfHgcTRhOsIKQAAAbFBnjNFFTwr/wEG13MXVYiHOSa8uHiLhObMALiibOALK0hu5LX0mqbn\n",
              "vw2xUUIa8L+UeNdin2yT2hh5ePW/0J05HERV3ekN5PMxVzeXbB6TQQ1Ehpav50k+bwSFbVZTBS4x\n",
              "q/Uz2NN5MabsQLcX55wcYBqZ4YRYrFYfquYjF+BRKMYGmT1S8LvVV4VCy15JFNOcLXukJjmVls08\n",
              "jo5hp/AC+NptHdd0KieUA6TxDGOpOBADSlHrL4OCjlPn4Yh+uU+wRHNH1pumrqnbWoqT5Bcg8Hlc\n",
              "h57oqRotX58GuFiW8Xo6fVPEVqnIMweL1G0lbu/WFBk9zSZV9wYjLHftKu8HVm5I3mwJNP2uHr3R\n",
              "gAArQZoIq0u3dhCgcHtRUlxGtOSGja8CUxKExrhUeVj6ck55Y0NPlM0vVXkkI6wESJhGgAx0uw1W\n",
              "eBVts12Mf+bsEOx/cz9cOxjDkHfCn8XxhzPq2tub9WFpcKThtwvhLwV3JQ/UBcDe8My6NYX2dO61\n",
              "v37sGWWZ+VCzLj95heq+NNrcVxn6lci7hK40eAKbrA39xLlbx4+UuE0x8U208eEFqDaAAAABRwGe\n",
              "VGpCfwFht1mcv30FH4IQcaaSsJweVIenMFJxBXSVqOlNUuI4AEX4mOndnmOKl2eX8yNwC1iFE/Hr\n",
              "B5hT/c6Q4XJaVFG7DfF8DlDyfU69MYSM7TLz6eAaZ5tJNI1DSD9FXvObAad5ke1IZwawR1YH4ePB\n",
              "ciR5fXSa/7VG2zoXWm5RFnl1nvJryk79nJH3NSBcCNe9eimGlTdKcrYiiGOeIvbcxdRMe6Fvtu3N\n",
              "nl9EW0l7JRg49hUeSmMJcmVWEe6XIFEVjp++rbuEeX3dzRqGyorNvwrhefN/tWIHc1jNSYwK2vgq\n",
              "RUqs7fj//YT04GXSXZ7iy3918YP4EDYDFOFOA0oDHBEnCx5TaR7ukKrdGXKZdFVkd2WMtR8lGgEB\n",
              "K4BCj884TWK36dbPREKsLz5msBtHGf0Gg/RhzP7BhOo8J4WX32ZB+QAAA3RBmllJqEFomUwIX//+\n",
              "jLANUe2wH+CyQIVOs+iqs09zKuyfZaoTlMRwwsHDvfEsu/jVFR3qkt/J3jVy31H8xXR8BKG9J9pg\n",
              "UBuWIKCQ6IUGEsSQL3SqJUslqwbprhNSqUXEhWQzjVhzucwVhIr+HJq+jM6/c52Bs0EKiwY/kLg0\n",
              "+fzOD6Hz0KZW5CCK8NKgaSXlBWSdgdIwjZ4oQ+8upP7FSNMh9II1lo17CxIVAV9xvE6sIiO2hZPN\n",
              "1ttOl7vmAYwxFudul+bRG1+BpLwpiJs10xEbaWWNxUM2JWaZiSM+tgUxaQZDSKQUa4f82Vo3uUR7\n",
              "52wpCMlVEjXhFhUOgAvkJepXpdedJsqGmaOTGWMxRCEpYurXTXrwV9AOoiU6Xl5gGxLgKbwkDFwB\n",
              "9K+g3/44/4YBfg1zr3RibVK+tyjoplGnDlBOsm+7IKYfpo3jaUd71gWqgRGsTLxdxfEhuO9OTUES\n",
              "1+t9tRfmoUzU0hJDMZ1uR6hBBojcvTA834+pClIFUfmBjq7qOO8FdKKzhH5C9xytxQ/08KiiEmyH\n",
              "rxu6qpCRbvjXNujjRsSPSdEneAPiDthf4Sy/eAcCIFCX67JaJwh/jsqJqHGOtocQbd2OGA4TAWiM\n",
              "/939jhOXfGqNyZtT7sDrbbwo/fea3+OwPXDSkAG2bcF8ppMQfR1FBxudhQZ+q0jKsROGbBsP1XnV\n",
              "v+o2OwelEGs0zxRC0PsQRb99lanBKfkM0cXXVL9tx8J2tKCr3n+ZXdcKLxveNirykW+Yub4xg+gB\n",
              "9mdVBoExTOgKpVNmRrhvBZeUbv4L+AIz/GSYtz/xUb+xhBseFe2hO7+yURWJtp/uV0f0bohSVbOB\n",
              "JSjNh62wqrB0NX3+Uc4DaadCg/tlMdPUV8rZL/5cTcJPy5jdPxk7YonGTYfnlVGxQexcHSj1+AR1\n",
              "qx+XDDagQ5kRtB04M2s6yL9pQpk6eM/j3gznNDdYIe++n+Rmh02ZFkEfDw3Bp9C9ECp5FFKwsWLt\n",
              "H7nVekAI5Pfpg2rORd5eYpRuDCXOF0FUY+UgqE9E28Exp6nUsV1LMg2aZSIzh5uSp00OoQmnebT+\n",
              "rRlqZEw10gZtuxi8j8PIhr4OOnytBIsFghupGtTgWU7QzuZl0IbynfYW1idYQt2mpYg2uzBDAoaU\n",
              "9Xnx+d6mYTXh0h6X+H3nWAAAAShBnndFESwr/wHGZJXlv5lwRdZVB6y5WwvKOnjCHGTsRGqcy1rU\n",
              "epz4c4eLZreF58mrnuvYgVfWEBLlzKWmecm6MbhU6/Gotad6DD9vw6qkRr2eRkdmg/X531/PKca4\n",
              "Qz+w7/1Ks3BsQnV7NU7Np6o0a15c3wYcLfw21Rj3zQeY2dTvE62HUILVhw1vdhCZP96WX0RF7GrC\n",
              "aK/Xu+Dpb1mk6z/aRUuy/e7GghFef0dqfcnESgR9+r+SCYG08TTOjSLv528fYn1sgaK+Pani15ye\n",
              "fe5mtO9GD5QRO+F4ufhJvv3K1GhIh1mQg3FBkwnMlus/ZAXpF/BkasapDlbe2bBjGO93bikSHUV/\n",
              "r6zAOZwOxppQhZDIduxCPOuXCn/ae/6ZVttieRHEqQAAAOMBnpZ0Qn8BYT1t1oCwccrsGPYX5LHg\n",
              "KCT4BOQI/PFERmV0o2NDQPYK+qQW9rlvQrl2tXWtQvk4u6ljzlgBttTvD/hwi/6OGwvqt3kZxvKq\n",
              "xg3QwMh9rhFqF0qc/7cmjtslODOWqnWd7z7r7GT9u9+gnH/T0YlvywJ26IdylBxnyWQ43KAz7N70\n",
              "7qvM1fTmnO7iqYeYt+f1mjNQeYCQmOkGLrX0NCRVlhvguYRF64sPfg+p7yd9vUVu9m4hF6Kj+j3n\n",
              "TrUbkuVvIeIU2yfhb0td3IFG1+ldO/lNtoBUcGrXDcGKoQAAAJkBnphqQn8CSba2V1ZpUhR7ofjd\n",
              "WGd5pamaXWSiF8c2ZruDVeUDFch4b5YtD8qcVwXZIamJkyAbcmyOdS7hL3hkoPh4XcKESv7PhyUy\n",
              "NnmPwoMABnEgbozzB8cDaLiljl7vflMLC7zhtgjZhcKZ/J4RZunOLi1J7GY1ybNwuNxioFSF153M\n",
              "8ugYeLTdFqRxJqYZ7ittYeipxNgAAACvQZqcSahBbJlMCE///fEAdnYj3XmnCPjVzg5NBYsd6cJB\n",
              "vspfZTidHfJQGs9k+SYGschmdBYDX4gBXkXC+lBrA9qjrrgCT3IaHNi9jL+kEdnuIAokPy1cffGh\n",
              "xrfnzYj/KI/w/DSLMIeBZ+o20c/+YC2cVOLRRpb/8ivK/2YNhHguJopxx7o3SEEnib8bOCgxr0hC\n",
              "5FxxafCGGGW1S0AkiDJ8rnoMXx9LSt9EfbCV2wAAAIFBnrpFFSwr/wHGRDiQSSF0ctUHeSvAANZy\n",
              "X81KIYZx7M6ARp6P18YV9752XNPdqhZxn7WFjF6gOMCEKxU+kqlzFZwgD0dfxN44b19oTZpbkVsL\n",
              "CUB43bxAmCgrtsQe8Zy2yZrXJyXDpOyHVKwWnzHtYvHsOba6aWeYzMpk1BJWQYAAAACDAZ7bakJ/\n",
              "AkkKQCX7OjRoibF1gBaSEjhFEwZ0Sy82XutbkrkiiE9fGjbwJFzEuUcHdI2SNQ57+LSQ+XOVWcRA\n",
              "jpHS+fxKvcgKgDQVU5+10RBLwWTzj5WiV0eGY6W85Trq0W0VeG17vDnXp+CEoeTaHUjS7fsOCwQn\n",
              "9puTxxcnCzvK7DkAAAW6bW9vdgAAAGxtdmhkAAAAAAAAAAAAAAAAAAAD6AAAB/IAAQAAAQAAAAAA\n",
              "AAAAAAAAAAEAAAAAAAAAAAAAAAAAAAABAAAAAAAAAAAAAAAAAABAAAAAAAAAAAAAAAAAAAAAAAAA\n",
              "AAAAAAAAAAAAAAAAAgAABOR0cmFrAAAAXHRraGQAAAADAAAAAAAAAAAAAAABAAAAAAAAB/IAAAAA\n",
              "AAAAAAAAAAAAAAAAAAEAAAAAAAAAAAAAAAAAAAABAAAAAAAAAAAAAAAAAABAAAAAAUAAAADwAAAA\n",
              "AAAkZWR0cwAAABxlbHN0AAAAAAAAAAEAAAfyAAAEAAABAAAAAARcbWRpYQAAACBtZGhkAAAAAAAA\n",
              "AAAAAAAAAAA8AAAAegBVxAAAAAAALWhkbHIAAAAAAAAAAHZpZGUAAAAAAAAAAAAAAABWaWRlb0hh\n",
              "bmRsZXIAAAAEB21pbmYAAAAUdm1oZAAAAAEAAAAAAAAAAAAAACRkaW5mAAAAHGRyZWYAAAAAAAAA\n",
              "AQAAAAx1cmwgAAAAAQAAA8dzdGJsAAAAs3N0c2QAAAAAAAAAAQAAAKNhdmMxAAAAAAAAAAEAAAAA\n",
              "AAAAAAAAAAAAAAAAAUAA8ABIAAAASAAAAAAAAAABAAAAAAAAAAAAAAAAAAAAAAAAAAAAAAAAAAAA\n",
              "AAAAAAAAGP//AAAAMWF2Y0MBZAAN/+EAGGdkAA2s2UFB+hAAAAMAEAAAAwPA8UKZYAEABmjr48si\n",
              "wAAAABx1dWlka2hA8l8kT8W6OaUbzwMj8wAAAAAAAAAYc3R0cwAAAAAAAAABAAAAPQAAAgAAAAAU\n",
              "c3RzcwAAAAAAAAABAAAAAQAAAahjdHRzAAAAAAAAADMAAAABAAAEAAAAAAEAAAoAAAAAAQAABAAA\n",
              "AAABAAAAAAAAAAEAAAIAAAAAAgAABAAAAAABAAAIAAAAAAIAAAIAAAAAAQAACAAAAAACAAACAAAA\n",
              "AAEAAAQAAAAAAQAACgAAAAABAAAEAAAAAAEAAAAAAAAAAQAAAgAAAAACAAAEAAAAAAEAAAoAAAAA\n",
              "AQAABAAAAAABAAAAAAAAAAEAAAIAAAAAAQAACgAAAAABAAAEAAAAAAEAAAAAAAAAAQAAAgAAAAAB\n",
              "AAAKAAAAAAEAAAQAAAAAAQAAAAAAAAABAAACAAAAAAEAAAgAAAAAAgAAAgAAAAABAAAIAAAAAAIA\n",
              "AAIAAAAAAQAACgAAAAABAAAEAAAAAAEAAAAAAAAAAQAAAgAAAAABAAAIAAAAAAIAAAIAAAAAAQAA\n",
              "CAAAAAACAAACAAAAAAEAAAQAAAAAAQAABgAAAAABAAACAAAAAAEAAAgAAAAAAgAAAgAAAAABAAAK\n",
              "AAAAAAEAAAQAAAAAAQAAAAAAAAABAAACAAAAAAEAAAgAAAAAAgAAAgAAAAAcc3RzYwAAAAAAAAAB\n",
              "AAAAAQAAAD0AAAABAAABCHN0c3oAAAAAAAAAAAAAAD0AAAkuAAACOQAAANAAAAB1AAAA9gAAAfAA\n",
              "AAHiAAADagAAAcQAAAFPAAAC2QAAAhAAAAHaAAABwwAAAwwAAAHCAAABVwAAAQAAAAGiAAABjAAA\n",
              "AicAAAE2AAAAwQAAAJ4AAAKFAAAA7wAAAJsAAAB8AAAAbwAAAMYAAABGAAAAWQAAAWIAAACoAAAA\n",
              "nQAAAbkAAADkAAAAkgAAAnEAAAG1AAAArwAAAQMAAAIAAAABPAAAASQAAAOyAAABgwAAAbgAAAK5\n",
              "AAAD7AAAAXcAAATZAAABtQAAAUsAAAN4AAABLAAAAOcAAACdAAAAswAAAIUAAACHAAAAFHN0Y28A\n",
              "AAAAAAAAAQAAACwAAABidWR0YQAAAFptZXRhAAAAAAAAACFoZGxyAAAAAAAAAABtZGlyYXBwbAAA\n",
              "AAAAAAAAAAAAAC1pbHN0AAAAJal0b28AAAAdZGF0YQAAAAEAAAAATGF2ZjU4LjI5LjEwMA==\n",
              "\">\n",
              "  Your browser does not support the video tag.\n",
              "</video>"
            ],
            "text/plain": [
              "<IPython.core.display.HTML object>"
            ]
          },
          "execution_count": 5,
          "metadata": {},
          "output_type": "execute_result"
        }
      ],
      "source": [
        "# @title Making a video {vertical-output: true}\n",
        "# plt.close(\"all\")\n",
        "# matplotlib.use(\"orig_backend\")\n",
        "\n",
        "duration = 2  # (seconds)\n",
        "framerate = 30  # (Hz)\n",
        "\n",
        "# Visualize the joint axis\n",
        "scene_option = mujoco.wrapper.core.MjvOption()\n",
        "scene_option.flags[enums.mjtVisFlag.mjVIS_JOINT] = True\n",
        "\n",
        "# Simulate and display video.\n",
        "frames = []\n",
        "physics.reset()  # Reset state and time\n",
        "while physics.data.time < duration:\n",
        "    physics.step()\n",
        "    if len(frames) < physics.data.time * framerate:\n",
        "        pixels = physics.render(scene_option=scene_option)\n",
        "        frames.append(pixels)\n",
        "display_video(frames, framerate)"
      ]
    },
    {
      "cell_type": "markdown",
      "metadata": {
        "id": "yYvS1UaciMX_"
      },
      "source": [
        "Note how we collect the video frames. Because physics simulation timesteps are generally much smaller than framerates (the default timestep is 2ms), we don't render after each step."
      ]
    },
    {
      "cell_type": "markdown",
      "metadata": {
        "id": "nQ8XOnRQx7T1"
      },
      "source": [
        "## Rendering options\n",
        "\n",
        "Like joint visualisation, additional rendering options are exposed as parameters to the `render` method."
      ]
    },
    {
      "cell_type": "code",
      "execution_count": 6,
      "metadata": {
        "id": "AQITZiIgx7T2"
      },
      "outputs": [
        {
          "data": {
            "image/jpeg": "[encoded data removed]",
            "image/png": "[encoded data removed]",
            "text/plain": [
              "<PIL.Image.Image image mode=RGB size=320x240>"
            ]
          },
          "execution_count": 6,
          "metadata": {},
          "output_type": "execute_result"
        }
      ],
      "source": [
        "# @title Enable transparency and frame visualization {vertical-output: true}\n",
        "\n",
        "scene_option = mujoco.wrapper.core.MjvOption()\n",
        "scene_option.frame = enums.mjtFrame.mjFRAME_GEOM\n",
        "scene_option.flags[enums.mjtVisFlag.mjVIS_TRANSPARENT] = True\n",
        "pixels = physics.render(scene_option=scene_option)\n",
        "PIL.Image.fromarray(pixels)"
      ]
    },
    {
      "cell_type": "code",
      "execution_count": 7,
      "metadata": {
        "id": "PDDgY48vx7T6"
      },
      "outputs": [
        {
          "data": {
            "image/jpeg": "[encoded data removed]",
            "image/png": "[encoded data removed]",
            "text/plain": [
              "<PIL.Image.Image image mode=L size=320x240>"
            ]
          },
          "execution_count": 7,
          "metadata": {},
          "output_type": "execute_result"
        }
      ],
      "source": [
        "# @title Depth rendering {vertical-output: true}\n",
        "\n",
        "# depth is a float array, in meters.\n",
        "depth = physics.render(depth=True)\n",
        "# Shift nearest values to the origin.\n",
        "depth -= depth.min()\n",
        "# Scale by 2 mean distances of near rays.\n",
        "depth /= 2 * depth[depth <= 1].mean()\n",
        "# Scale to [0, 255]\n",
        "pixels = 255 * np.clip(depth, 0, 1)\n",
        "PIL.Image.fromarray(pixels.astype(np.uint8))"
      ]
    },
    {
      "cell_type": "code",
      "execution_count": 8,
      "metadata": {
        "id": "PNwiIrgpx7T8"
      },
      "outputs": [
        {
          "data": {
            "image/jpeg": "[encoded data removed]",
            "image/png": "[encoded data removed]",
            "text/plain": [
              "<PIL.Image.Image image mode=L size=320x240>"
            ]
          },
          "execution_count": 8,
          "metadata": {},
          "output_type": "execute_result"
        }
      ],
      "source": [
        "# @title Segmentation rendering {vertical-output: true}\n",
        "\n",
        "seg = physics.render(segmentation=True)\n",
        "# Display the contents of the first channel, which contains object\n",
        "# IDs. The second channel, seg[:, :, 1], contains object types.\n",
        "geom_ids = seg[:, :, 0]\n",
        "# Infinity is mapped to -1\n",
        "geom_ids = geom_ids.astype(np.float64) + 1\n",
        "# Scale to [0, 1]\n",
        "geom_ids = geom_ids / geom_ids.max()\n",
        "pixels = 255 * geom_ids\n",
        "PIL.Image.fromarray(pixels.astype(np.uint8))"
      ]
    },
    {
      "cell_type": "code",
      "execution_count": 9,
      "metadata": {
        "id": "uCJQlv3cQcJQ"
      },
      "outputs": [],
      "source": [
        "# @title Projecting from world to camera coordinates {vertical-output: true}\n",
        "\n",
        "# Get the world coordinates of the box corners\n",
        "box_pos = physics.named.data.geom_xpos[\"red_box\"]\n",
        "box_mat = physics.named.data.geom_xmat[\"red_box\"].reshape(3, 3)\n",
        "box_size = physics.named.model.geom_size[\"red_box\"]\n",
        "offsets = np.array([-1, 1]) * box_size[:, None]\n",
        "xyz_local = np.stack(list(itertools.product(*offsets))).T\n",
        "xyz_global = box_pos[:, None] + box_mat @ xyz_local\n",
        "\n",
        "# Camera matrices multiply homogenous [x, y, z, 1] vectors.\n",
        "corners_homogeneous = np.ones((4, xyz_global.shape[1]), dtype=float)\n",
        "corners_homogeneous[:3, :] = xyz_global\n",
        "\n",
        "# Get the camera matrix.\n",
        "camera = mujoco.Camera(physics)\n",
        "camera_matrix = camera.matrix\n",
        "\n",
        "# Project world coordinates into pixel space. See:\n",
        "# https://en.wikipedia.org/wiki/3D_projection#Mathematical_formula\n",
        "xs, ys, s = camera_matrix @ corners_homogeneous\n",
        "# x and y are in the pixel coordinate system.\n",
        "x = xs / s\n",
        "y = ys / s\n",
        "\n",
        "# Render the camera view and overlay the projected corner coordinates.\n",
        "pixels = camera.render()\n",
        "fig, ax = plt.subplots(1, 1)\n",
        "ax.imshow(pixels)\n",
        "ax.plot(x, y, \"+\", c=\"w\")\n",
        "ax.set_axis_off()"
      ]
    },
    {
      "cell_type": "markdown",
      "metadata": {
        "id": "gf9h_wi9weet"
      },
      "source": [
        "# MuJoCo basics and named indexing"
      ]
    },
    {
      "cell_type": "markdown",
      "metadata": {
        "id": "NCcZxrDDB1Cj"
      },
      "source": [
        "## `mjModel`\n",
        "MuJoCo's `mjModel`, encapsulated in `physics.model`, contains the *model description*, including the default initial state and other fixed quantities which are not a function of the state, e.g. the positions of geoms in the frame of their parent body. The (x, y, z) offsets of the `box` and `sphere` geoms, relative their parent body `box_and_sphere` are given by `model.geom_pos`:"
      ]
    },
    {
      "cell_type": "code",
      "execution_count": 10,
      "metadata": {
        "id": "wx8NANvOF8g1"
      },
      "outputs": [
        {
          "data": {
            "text/plain": [
              "array([[0. , 0. , 0. ],\n",
              "       [0.2, 0.2, 0.2]])"
            ]
          },
          "execution_count": 10,
          "metadata": {},
          "output_type": "execute_result"
        }
      ],
      "source": [
        "physics.model.geom_pos"
      ]
    },
    {
      "cell_type": "markdown",
      "metadata": {
        "id": "Wee5ATLtIQn_"
      },
      "source": [
        "The `model.opt` structure contains global quantities like"
      ]
    },
    {
      "cell_type": "code",
      "execution_count": 11,
      "metadata": {
        "id": "BhzbZIfDIU2-"
      },
      "outputs": [
        {
          "name": "stdout",
          "output_type": "stream",
          "text": [
            "timestep 0.002\n",
            "gravity [ 0.    0.   -9.81]\n"
          ]
        }
      ],
      "source": [
        "print(\"timestep\", physics.model.opt.timestep)\n",
        "print(\"gravity\", physics.model.opt.gravity)"
      ]
    },
    {
      "cell_type": "markdown",
      "metadata": {
        "id": "t5hY0fyXFLcf"
      },
      "source": [
        "## `mjData`\n",
        "`mjData`, encapsulated in `physics.data`, contains the *state* and quantities that depend on it. The state is made up of time, generalized positions and generalised velocities. These are respectively `data.time`, `data.qpos` and `data.qvel`.\n",
        "\n",
        "Let's print the state of the swinging body where we left it:"
      ]
    },
    {
      "cell_type": "code",
      "execution_count": null,
      "metadata": {
        "id": "acwZtDwp9mQU"
      },
      "outputs": [],
      "source": [
        "print(physics.data.time, physics.data.qpos, physics.data.qvel)"
      ]
    },
    {
      "cell_type": "markdown",
      "metadata": {
        "id": "7YlmcLcA-WQu"
      },
      "source": [
        "`physics.data` also contains functions of the state, for example the cartesian positions of objects in the world frame. The (x, y, z) positions of our two geoms are in `data.geom_xpos`:"
      ]
    },
    {
      "cell_type": "code",
      "execution_count": null,
      "metadata": {
        "id": "CPwDcAQ0-uUE"
      },
      "outputs": [],
      "source": [
        "print(physics.data.geom_xpos)"
      ]
    },
    {
      "cell_type": "markdown",
      "metadata": {
        "id": "Z0UodCxS_v49"
      },
      "source": [
        "## Named indexing\n",
        "\n",
        "The semantics of the above arrays are made clearer using the `named` wrapper, which assigns names to rows and type names to columns."
      ]
    },
    {
      "cell_type": "code",
      "execution_count": null,
      "metadata": {
        "id": "cLARcaK6-xCU"
      },
      "outputs": [],
      "source": [
        "print(physics.named.data.geom_xpos)"
      ]
    },
    {
      "cell_type": "markdown",
      "metadata": {
        "id": "wgXOUZNZHIx6"
      },
      "source": [
        "Note how `model.geom_pos` and `data.geom_xpos` have similar semantics but very different meanings."
      ]
    },
    {
      "cell_type": "code",
      "execution_count": null,
      "metadata": {
        "id": "-cW61ClRHS8a"
      },
      "outputs": [],
      "source": [
        "print(physics.named.model.geom_pos)"
      ]
    },
    {
      "cell_type": "markdown",
      "metadata": {
        "id": "-lQ0AChVASMv"
      },
      "source": [
        "Name strings can be used to index **into** the relevant quantities, making code much more readable and robust."
      ]
    },
    {
      "cell_type": "code",
      "execution_count": null,
      "metadata": {
        "id": "Rj4ad9fQAnFZ"
      },
      "outputs": [],
      "source": [
        "physics.named.data.geom_xpos[\"green_sphere\", \"z\"]"
      ]
    },
    {
      "cell_type": "markdown",
      "metadata": {
        "id": "axr_p6APAzFn"
      },
      "source": [
        "Joint names can be used to index into quantities in configuration space (beginning with the letter `q`):"
      ]
    },
    {
      "cell_type": "code",
      "execution_count": null,
      "metadata": {
        "id": "hluF9aDG9O1W"
      },
      "outputs": [],
      "source": [
        "physics.named.data.qpos[\"swing\"]"
      ]
    },
    {
      "cell_type": "markdown",
      "metadata": {
        "id": "3IhfyD2Q1pjv"
      },
      "source": [
        "We can mix NumPy slicing operations with named indexing. As an example, we can set the color of the box using its name (`\"red_box\"`) as an index into the rows of the `geom_rgba` array."
      ]
    },
    {
      "cell_type": "code",
      "execution_count": null,
      "metadata": {
        "id": "f5vVUullUvWH"
      },
      "outputs": [],
      "source": [
        "# @title Changing colors using named indexing{vertical-output: true}\n",
        "\n",
        "random_rgb = np.random.rand(3)\n",
        "physics.named.model.geom_rgba[\"red_box\", :3] = random_rgb\n",
        "pixels = physics.render()\n",
        "PIL.Image.fromarray(pixels)"
      ]
    },
    {
      "cell_type": "markdown",
      "metadata": {
        "id": "elzPPdq-KhLI"
      },
      "source": [
        "Note that while `physics.model` quantities will not be changed by the engine, we can change them ourselves between steps. This however is generally not recommended, the preferred approach being to modify the model at the XML level using the PyMJCF library, see below."
      ]
    },
    {
      "cell_type": "markdown",
      "metadata": {
        "id": "22ENjtVuhwsm"
      },
      "source": [
        "## Setting the state with `reset_context()`\n",
        "\n",
        "In order for `data` quantities that are functions of the state to be in sync with the state, MuJoCo's `mj_step1()` needs to be called. This is facilitated by the `reset_context()` context, please see in-depth discussion in Section 2.1 of the [tech report](https://arxiv.org/abs/2006.12983)."
      ]
    },
    {
      "cell_type": "code",
      "execution_count": null,
      "metadata": {
        "id": "WBPprCtWgXFN"
      },
      "outputs": [],
      "source": [
        "physics.named.data.qpos[\"swing\"] = np.pi\n",
        "print(\n",
        "    \"Without reset_context, spatial positions are not updated:\",\n",
        "    physics.named.data.geom_xpos[\"green_sphere\", [\"z\"]],\n",
        ")\n",
        "with physics.reset_context():\n",
        "    physics.named.data.qpos[\"swing\"] = np.pi\n",
        "print(\n",
        "    \"After reset_context, positions are up-to-date:\",\n",
        "    physics.named.data.geom_xpos[\"green_sphere\", [\"z\"]],\n",
        ")"
      ]
    },
    {
      "cell_type": "markdown",
      "metadata": {
        "id": "SHppAOjvSupc"
      },
      "source": [
        "## Free bodies: the self-inverting \"tippe-top\"\n",
        "\n",
        "A free body is a body with a `free` joint, with 6 movement DOFs: 3 translations and 3 rotations. We could give our `box_and_sphere` body a free joint and watch it fall, but let's look at something more interesting. A \"tippe top\" is a spinning toy which flips itself on its head ([Wikipedia](https://en.wikipedia.org/wiki/Tippe_top)). We model it as follows:"
      ]
    },
    {
      "cell_type": "code",
      "execution_count": null,
      "metadata": {
        "id": "xasXQpVMjIwA"
      },
      "outputs": [],
      "source": [
        "# @title The \"tippe-top\" model{vertical-output: true}\n",
        "\n",
        "tippe_top = \"\"\"\n",
        "<mujoco model=\"tippe top\">\n",
        "  <option integrator=\"RK4\"/>\n",
        "  <asset>\n",
        "    <texture name=\"grid\" type=\"2d\" builtin=\"checker\" rgb1=\".1 .2 .3\"\n",
        "     rgb2=\".2 .3 .4\" width=\"300\" height=\"300\"/>\n",
        "    <material name=\"grid\" texture=\"grid\" texrepeat=\"8 8\" reflectance=\".2\"/>\n",
        "  </asset>\n",
        "  <worldbody>\n",
        "    <geom size=\".2 .2 .01\" type=\"plane\" material=\"grid\"/>\n",
        "    <light pos=\"0 0 .6\"/>\n",
        "    <camera name=\"closeup\" pos=\"0 -.1 .07\" xyaxes=\"1 0 0 0 1 2\"/>\n",
        "    <body name=\"top\" pos=\"0 0 .02\">\n",
        "      <freejoint/>\n",
        "      <geom name=\"ball\" type=\"sphere\" size=\".02\" />\n",
        "      <geom name=\"stem\" type=\"cylinder\" pos=\"0 0 .02\" size=\"0.004 .008\"/>\n",
        "      <geom name=\"ballast\" type=\"box\" size=\".023 .023 0.005\"  pos=\"0 0 -.015\"\n",
        "       contype=\"0\" conaffinity=\"0\" group=\"3\"/>\n",
        "    </body>\n",
        "  </worldbody>\n",
        "  <keyframe>\n",
        "    <key name=\"spinning\" qpos=\"0 0 0.02 1 0 0 0\" qvel=\"0 0 0 0 1 200\" />\n",
        "  </keyframe>\n",
        "</mujoco>\n",
        "\"\"\"\n",
        "physics = mujoco.Physics.from_xml_string(tippe_top)\n",
        "PIL.Image.fromarray(physics.render(camera_id=\"closeup\"))"
      ]
    },
    {
      "cell_type": "markdown",
      "metadata": {
        "id": "bvHlr6maJYIG"
      },
      "source": [
        "Note several new features of this model definition:\n",
        "0. The free joint is added with the `<freejoint/>` clause, which is similar to `<joint type=\"free\"/>`, but prohibits unphysical attributes like friction or stiffness.\n",
        "1. We use the `<option/>` clause to set the integrator to the more accurate Runge Kutta 4th order.\n",
        "2. We define the floor's grid material inside the `<asset/>` clause and reference it in the floor geom.\n",
        "3. We use an invisible and non-colliding box geom called `ballast` to move the top's center-of-mass lower. Having a low center of mass is  (counter-intuitively) required for the flipping behaviour to occur.\n",
        "4. We save our initial spinning state as a keyframe. It has a high rotational velocity around the z-axis, but is not perfectly oriented with the world.\n",
        "5. We define a `<camera>` in our model, and then render from it using the `camera_id` argument to `render()`.\n",
        "Let us examine the state:"
      ]
    },
    {
      "cell_type": "code",
      "execution_count": null,
      "metadata": {
        "id": "o4S9nYhHOKmb"
      },
      "outputs": [],
      "source": [
        "print(\"positions\", physics.data.qpos)\n",
        "print(\"velocities\", physics.data.qvel)"
      ]
    },
    {
      "cell_type": "markdown",
      "metadata": {
        "id": "71UgzBAqWdtZ"
      },
      "source": [
        "The velocities are easy to interpret, 6 zeros, one for each DOF. What about the length-7 positions? We can see the initial 2cm height of the body; the subsequent four numbers are the 3D orientation, defined by a *unit quaternion*. These normalized four-vectors, which preserve the topology of the orientation group, are the reason that `data.qpos` can be bigger than `data.qvel`: 3D orientations are represented with **4** numbers while angular velocities are **3** numbers."
      ]
    },
    {
      "cell_type": "code",
      "execution_count": null,
      "metadata": {
        "id": "5P4HkhKNGQvs"
      },
      "outputs": [],
      "source": [
        "# @title Video of the tippe-top {vertical-output: true}\n",
        "\n",
        "duration = 7  # (seconds)\n",
        "framerate = 60  # (Hz)\n",
        "\n",
        "# Simulate and display video.\n",
        "frames = []\n",
        "physics.reset(0)  # Reset to keyframe 0 (load a saved state).\n",
        "while physics.data.time < duration:\n",
        "    physics.step()\n",
        "    if len(frames) < (physics.data.time) * framerate:\n",
        "        pixels = physics.render(camera_id=\"closeup\")\n",
        "        frames.append(pixels)\n",
        "\n",
        "display_video(frames, framerate)"
      ]
    },
    {
      "cell_type": "markdown",
      "metadata": {
        "id": "rRuFKD2ubPgu"
      },
      "source": [
        "### Measuring values from `physics.data`\n",
        "The `physics.data` structure contains all of the dynamic variables and intermediate results produced by the simulation. These are expected to change on each timestep.\n",
        "\n",
        "Below we simulate for 2000 timesteps and plot the state and height of the sphere as a function of time."
      ]
    },
    {
      "cell_type": "code",
      "execution_count": null,
      "metadata": {
        "id": "1XXB6asJoZ2N"
      },
      "outputs": [],
      "source": [
        "# @title Measuring values {vertical-output: true}\n",
        "\n",
        "timevals = []\n",
        "angular_velocity = []\n",
        "stem_height = []\n",
        "\n",
        "# Simulate and save data\n",
        "physics.reset(0)\n",
        "while physics.data.time < duration:\n",
        "    physics.step()\n",
        "    timevals.append(physics.data.time)\n",
        "    angular_velocity.append(physics.data.qvel[3:6].copy())\n",
        "    stem_height.append(physics.named.data.geom_xpos[\"stem\", \"z\"])\n",
        "\n",
        "dpi = 100\n",
        "width = 480\n",
        "height = 640\n",
        "figsize = (width / dpi, height / dpi)\n",
        "_, ax = plt.subplots(2, 1, figsize=figsize, dpi=dpi, sharex=True)\n",
        "\n",
        "ax[0].plot(timevals, angular_velocity)\n",
        "ax[0].set_title(\"angular velocity\")\n",
        "ax[0].set_ylabel(\"radians / second\")\n",
        "\n",
        "ax[1].plot(timevals, stem_height)\n",
        "ax[1].set_xlabel(\"time (seconds)\")\n",
        "ax[1].set_ylabel(\"meters\")\n",
        "_ = ax[1].set_title(\"stem height\")"
      ]
    },
    {
      "cell_type": "markdown",
      "metadata": {
        "id": "UAMItwu8e1WR"
      },
      "source": [
        "# PyMJCF tutorial\n",
        "\n",
        "\n"
      ]
    },
    {
      "cell_type": "markdown",
      "metadata": {
        "id": "hPiY8m3MssKM"
      },
      "source": [
        "This library provides a Python object model for MuJoCo's XML-based\n",
        "[MJCF](http://www.mujoco.org/book/modeling.html) physics modeling language. The\n",
        "goal of the library is to allow users to easily interact with and modify MJCF\n",
        "models in Python, similarly to what the JavaScript DOM does for HTML.\n",
        "\n",
        "A key feature of this library is the ability to easily compose multiple separate\n",
        "MJCF models into a larger one. Disambiguation of duplicated names from different\n",
        "models, or multiple instances of the same model, is handled automatically.\n",
        "\n",
        "One typical use case is when we want robots with a variable number of joints. This is a fundamental change to the kinematics, requiring a new XML descriptor and new binary model to be compiled.\n",
        "\n",
        "The following snippets realise this scenario and provide a quick example of this library's use case."
      ]
    },
    {
      "cell_type": "code",
      "execution_count": null,
      "metadata": {
        "id": "gKny5EJ4uVzu"
      },
      "outputs": [],
      "source": [
        "class Leg(object):\n",
        "    \"\"\"A 2-DoF leg with position actuators.\"\"\"\n",
        "\n",
        "    def __init__(self, length, rgba):\n",
        "        self.model = mjcf.RootElement()\n",
        "\n",
        "        # Defaults:\n",
        "        self.model.default.joint.damping = 2\n",
        "        self.model.default.joint.type = \"hinge\"\n",
        "        self.model.default.geom.type = \"capsule\"\n",
        "        self.model.default.geom.rgba = rgba  # Continued below...\n",
        "\n",
        "        # Thigh:\n",
        "        self.thigh = self.model.worldbody.add(\"body\")\n",
        "        self.hip = self.thigh.add(\"joint\", axis=[0, 0, 1])\n",
        "        self.thigh.add(\"geom\", fromto=[0, 0, 0, length, 0, 0], size=[length / 4])\n",
        "\n",
        "        # Hip:\n",
        "        self.shin = self.thigh.add(\"body\", pos=[length, 0, 0])\n",
        "        self.knee = self.shin.add(\"joint\", axis=[0, 1, 0])\n",
        "        self.shin.add(\"geom\", fromto=[0, 0, 0, 0, 0, -length], size=[length / 5])\n",
        "\n",
        "        # Position actuators:\n",
        "        self.model.actuator.add(\"position\", joint=self.hip, kp=10)\n",
        "        self.model.actuator.add(\"position\", joint=self.knee, kp=10)"
      ]
    },
    {
      "cell_type": "markdown",
      "metadata": {
        "id": "cFJerI--UtTy"
      },
      "source": [
        "The `Leg` class describes an abstract articulated leg, with two joints and corresponding proportional-derivative actuators.\n",
        "\n",
        "Note that:\n",
        "\n",
        "- MJCF attributes correspond directly to arguments of the `add()` method.\n",
        "- When referencing elements, e.g when specifying the joint to which an actuator is attached, the MJCF element itself is used, rather than the name string."
      ]
    },
    {
      "cell_type": "code",
      "execution_count": null,
      "metadata": {
        "cellView": "both",
        "id": "SESlL_TidKHx"
      },
      "outputs": [],
      "source": [
        "BODY_RADIUS = 0.1\n",
        "BODY_SIZE = (BODY_RADIUS, BODY_RADIUS, BODY_RADIUS / 2)\n",
        "random_state = np.random.RandomState(42)\n",
        "\n",
        "\n",
        "def make_creature(num_legs):\n",
        "    \"\"\"Constructs a creature with `num_legs` legs.\"\"\"\n",
        "    rgba = random_state.uniform([0, 0, 0, 1], [1, 1, 1, 1])\n",
        "    model = mjcf.RootElement()\n",
        "    model.compiler.angle = \"radian\"  # Use radians.\n",
        "\n",
        "    # Make the torso geom.\n",
        "    model.worldbody.add(\n",
        "        \"geom\", name=\"torso\", type=\"ellipsoid\", size=BODY_SIZE, rgba=rgba\n",
        "    )\n",
        "\n",
        "    # Attach legs to equidistant sites on the circumference.\n",
        "    for i in range(num_legs):\n",
        "        theta = 2 * i * np.pi / num_legs\n",
        "        hip_pos = BODY_RADIUS * np.array([np.cos(theta), np.sin(theta), 0])\n",
        "        hip_site = model.worldbody.add(\"site\", pos=hip_pos, euler=[0, 0, theta])\n",
        "        leg = Leg(length=BODY_RADIUS, rgba=rgba)\n",
        "        hip_site.attach(leg.model)\n",
        "\n",
        "    return model"
      ]
    },
    {
      "cell_type": "markdown",
      "metadata": {
        "id": "elyuJiI3U3kM"
      },
      "source": [
        "The `make_creature` function uses PyMJCF's `attach()` method to procedurally attach legs to the torso. Note that at this stage both the torso and hip attachment sites are children of the `worldbody`, since their parent body has yet to be instantiated. We'll now make an arena with a chequered floor and two lights, and place our creatures in a grid."
      ]
    },
    {
      "cell_type": "code",
      "execution_count": null,
      "metadata": {
        "id": "F7_Tx9P9U_VJ"
      },
      "outputs": [],
      "source": [
        "# @title Six Creatures on a floor.{vertical-output: true}\n",
        "\n",
        "arena = mjcf.RootElement()\n",
        "chequered = arena.asset.add(\n",
        "    \"texture\",\n",
        "    type=\"2d\",\n",
        "    builtin=\"checker\",\n",
        "    width=300,\n",
        "    height=300,\n",
        "    rgb1=[0.2, 0.3, 0.4],\n",
        "    rgb2=[0.3, 0.4, 0.5],\n",
        ")\n",
        "grid = arena.asset.add(\n",
        "    \"material\", name=\"grid\", texture=chequered, texrepeat=[5, 5], reflectance=0.2\n",
        ")\n",
        "arena.worldbody.add(\"geom\", type=\"plane\", size=[2, 2, 0.1], material=grid)\n",
        "for x in [-2, 2]:\n",
        "    arena.worldbody.add(\"light\", pos=[x, -1, 3], dir=[-x, 1, -2])\n",
        "\n",
        "# Instantiate 6 creatures with 3 to 8 legs.\n",
        "creatures = [make_creature(num_legs=num_legs) for num_legs in range(3, 9)]\n",
        "\n",
        "# Place them on a grid in the arena.\n",
        "height = 0.15\n",
        "grid = 5 * BODY_RADIUS\n",
        "xpos, ypos, zpos = np.meshgrid([-grid, 0, grid], [0, grid], [height])\n",
        "for i, model in enumerate(creatures):\n",
        "    # Place spawn sites on a grid.\n",
        "    spawn_pos = (xpos.flat[i], ypos.flat[i], zpos.flat[i])\n",
        "    spawn_site = arena.worldbody.add(\"site\", pos=spawn_pos, group=3)\n",
        "    # Attach to the arena at the spawn sites, with a free joint.\n",
        "    spawn_site.attach(model).add(\"freejoint\")\n",
        "\n",
        "# Instantiate the physics and render.\n",
        "physics = mjcf.Physics.from_mjcf_model(arena)\n",
        "PIL.Image.fromarray(physics.render())"
      ]
    },
    {
      "cell_type": "markdown",
      "metadata": {
        "id": "cMfDaD7PfuoI"
      },
      "source": [
        "Multi-legged creatures, ready to roam! Let's inject some controls and watch them move. We'll generate a sinusoidal open-loop control signal of fixed frequency and random phase, recording both video frames and the horizontal positions of the torso geoms, in order to plot the movement trajectories."
      ]
    },
    {
      "cell_type": "code",
      "execution_count": null,
      "metadata": {
        "id": "8Gx39DMEUZDt"
      },
      "outputs": [],
      "source": [
        "# @title Video of the movement{vertical-output: true}\n",
        "# @test {\"timeout\": 600}\n",
        "\n",
        "duration = 10  # (Seconds)\n",
        "framerate = 30  # (Hz)\n",
        "video = []\n",
        "pos_x = []\n",
        "pos_y = []\n",
        "torsos = []  # List of torso geom elements.\n",
        "actuators = []  # List of actuator elements.\n",
        "for creature in creatures:\n",
        "    torsos.append(creature.find(\"geom\", \"torso\"))\n",
        "    actuators.extend(creature.find_all(\"actuator\"))\n",
        "\n",
        "# Control signal frequency, phase, amplitude.\n",
        "freq = 5\n",
        "phase = 2 * np.pi * random_state.rand(len(actuators))\n",
        "amp = 0.9\n",
        "\n",
        "# Simulate, saving video frames and torso locations.\n",
        "physics.reset()\n",
        "while physics.data.time < duration:\n",
        "    # Inject controls and step the physics.\n",
        "    physics.bind(actuators).ctrl = amp * np.sin(freq * physics.data.time + phase)\n",
        "    physics.step()\n",
        "\n",
        "    # Save torso horizontal positions using bind().\n",
        "    pos_x.append(physics.bind(torsos).xpos[:, 0].copy())\n",
        "    pos_y.append(physics.bind(torsos).xpos[:, 1].copy())\n",
        "\n",
        "    # Save video frames.\n",
        "    if len(video) < physics.data.time * framerate:\n",
        "        pixels = physics.render()\n",
        "        video.append(pixels.copy())\n",
        "\n",
        "display_video(video, framerate)"
      ]
    },
    {
      "cell_type": "code",
      "execution_count": null,
      "metadata": {
        "id": "u09JfenWYLZu"
      },
      "outputs": [],
      "source": [
        "# @title Movement trajectories{vertical-output: true}\n",
        "\n",
        "creature_colors = physics.bind(torsos).rgba[:, :3]\n",
        "fig, ax = plt.subplots(figsize=(4, 4))\n",
        "ax.set_prop_cycle(color=creature_colors)\n",
        "_ = ax.plot(pos_x, pos_y, linewidth=4)"
      ]
    },
    {
      "cell_type": "markdown",
      "metadata": {
        "id": "kggQyvNpf_Y9"
      },
      "source": [
        "The plot above shows the corresponding movement trajectories of creature positions. Note how `physics.bind(torsos)` was used to access both `xpos` and `rgba` values. Once the `Physics` had been instantiated by `from_mjcf_model()`, the `bind()` method will expose both the associated `mjData` and `mjModel` fields of an `mjcf` element, providing unified access to all quantities in the simulation."
      ]
    },
    {
      "cell_type": "markdown",
      "metadata": {
        "id": "wcRX_wu_8q8u"
      },
      "source": [
        "# Composer tutorial"
      ]
    },
    {
      "cell_type": "markdown",
      "metadata": {
        "id": "1DMhNPE5tSdw"
      },
      "source": [
        "In this tutorial we will create a task requiring our \"creature\" above to press a colour-changing button on the floor with a prescribed force. We begin by implementing our creature as a `composer.Entity`:"
      ]
    },
    {
      "cell_type": "code",
      "execution_count": null,
      "metadata": {
        "id": "WwfzIqgNuFKt"
      },
      "outputs": [],
      "source": [
        "# @title The `Creature` class\n",
        "\n",
        "\n",
        "class Creature(composer.Entity):\n",
        "    \"\"\"A multi-legged creature derived from `composer.Entity`.\"\"\"\n",
        "\n",
        "    def _build(self, num_legs):\n",
        "        self._model = make_creature(num_legs)\n",
        "\n",
        "    def _build_observables(self):\n",
        "        return CreatureObservables(self)\n",
        "\n",
        "    @property\n",
        "    def mjcf_model(self):\n",
        "        return self._model\n",
        "\n",
        "    @property\n",
        "    def actuators(self):\n",
        "        return tuple(self._model.find_all(\"actuator\"))\n",
        "\n",
        "\n",
        "# Add simple observable features for joint angles and velocities.\n",
        "class CreatureObservables(composer.Observables):\n",
        "    @composer.observable\n",
        "    def joint_positions(self):\n",
        "        all_joints = self._entity.mjcf_model.find_all(\"joint\")\n",
        "        return observable.MJCFFeature(\"qpos\", all_joints)\n",
        "\n",
        "    @composer.observable\n",
        "    def joint_velocities(self):\n",
        "        all_joints = self._entity.mjcf_model.find_all(\"joint\")\n",
        "        return observable.MJCFFeature(\"qvel\", all_joints)"
      ]
    },
    {
      "cell_type": "markdown",
      "metadata": {
        "id": "CXZOBK6RkjxH"
      },
      "source": [
        "The `Creature` Entity includes generic Observables for joint angles and velocities. Because `find_all()` is called on the `Creature`'s MJCF model, it will only return the creature's leg joints, and not the \"free\" joint with which it will be attached to the world. Note that Composer Entities should override the `_build` and `_build_observables` methods rather than `__init__`. The implementation of `__init__` in the base class calls `_build` and `_build_observables`, in that order, to ensure that the entity's MJCF model is created before its observables. This was a design choice which allows the user to refer to an observable as an attribute (`entity.observables.foo`) while still making it clear which attributes are observables. The stateful `Button` class derives from `composer.Entity` and implements the `initialize_episode` and `after_substep` callbacks."
      ]
    },
    {
      "cell_type": "code",
      "execution_count": null,
      "metadata": {
        "id": "BE9VU2EOvR-u"
      },
      "outputs": [],
      "source": [
        "# @title The `Button` class\n",
        "\n",
        "NUM_SUBSTEPS = 25  # The number of physics substeps per control timestep.\n",
        "\n",
        "\n",
        "class Button(composer.Entity):\n",
        "    \"\"\"A button Entity which changes colour when pressed with certain force.\"\"\"\n",
        "\n",
        "    def _build(self, target_force_range=(5, 10)):\n",
        "        self._min_force, self._max_force = target_force_range\n",
        "        self._mjcf_model = mjcf.RootElement()\n",
        "        self._geom = self._mjcf_model.worldbody.add(\n",
        "            \"geom\", type=\"cylinder\", size=[0.25, 0.02], rgba=[1, 0, 0, 1]\n",
        "        )\n",
        "        self._site = self._mjcf_model.worldbody.add(\n",
        "            \"site\", type=\"cylinder\", size=self._geom.size * 1.01, rgba=[1, 0, 0, 0]\n",
        "        )\n",
        "        self._sensor = self._mjcf_model.sensor.add(\"touch\", site=self._site)\n",
        "        self._num_activated_steps = 0\n",
        "\n",
        "    def _build_observables(self):\n",
        "        return ButtonObservables(self)\n",
        "\n",
        "    @property\n",
        "    def mjcf_model(self):\n",
        "        return self._mjcf_model\n",
        "\n",
        "    # Update the activation (and colour) if the desired force is applied.\n",
        "    def _update_activation(self, physics):\n",
        "        current_force = physics.bind(self.touch_sensor).sensordata[0]\n",
        "        self._is_activated = (\n",
        "            current_force >= self._min_force and current_force <= self._max_force\n",
        "        )\n",
        "        physics.bind(self._geom).rgba = (\n",
        "            [0, 1, 0, 1] if self._is_activated else [1, 0, 0, 1]\n",
        "        )\n",
        "        self._num_activated_steps += int(self._is_activated)\n",
        "\n",
        "    def initialize_episode(self, physics, random_state):\n",
        "        self._reward = 0.0\n",
        "        self._num_activated_steps = 0\n",
        "        self._update_activation(physics)\n",
        "\n",
        "    def after_substep(self, physics, random_state):\n",
        "        self._update_activation(physics)\n",
        "\n",
        "    @property\n",
        "    def touch_sensor(self):\n",
        "        return self._sensor\n",
        "\n",
        "    @property\n",
        "    def num_activated_steps(self):\n",
        "        return self._num_activated_steps\n",
        "\n",
        "\n",
        "class ButtonObservables(composer.Observables):\n",
        "    \"\"\"A touch sensor which averages contact force over physics substeps.\"\"\"\n",
        "\n",
        "    @composer.observable\n",
        "    def touch_force(self):\n",
        "        return observable.MJCFFeature(\n",
        "            \"sensordata\",\n",
        "            self._entity.touch_sensor,\n",
        "            buffer_size=NUM_SUBSTEPS,\n",
        "            aggregator=\"mean\",\n",
        "        )"
      ]
    },
    {
      "cell_type": "markdown",
      "metadata": {
        "id": "D9vB5nCwkyIW"
      },
      "source": [
        "Note how the Button counts the number of sub-steps during which it is pressed with the desired force. It also exposes an `Observable` of the force being applied to the button, whose value is an average of the readings over the physics time-steps.\n",
        "\n",
        "We import some `variation` modules and an arena factory:"
      ]
    },
    {
      "cell_type": "code",
      "execution_count": null,
      "metadata": {
        "id": "aDTTQMHtVawM"
      },
      "outputs": [],
      "source": [
        "# @title Random initialiser using `composer.variation`\n",
        "\n",
        "\n",
        "class UniformCircle(variation.Variation):\n",
        "    \"\"\"A uniformly sampled horizontal point on a circle of radius `distance`.\"\"\"\n",
        "\n",
        "    def __init__(self, distance):\n",
        "        self._distance = distance\n",
        "        self._heading = distributions.Uniform(0, 2 * np.pi)\n",
        "\n",
        "    def __call__(self, initial_value=None, current_value=None, random_state=None):\n",
        "        distance, heading = variation.evaluate(\n",
        "            (self._distance, self._heading), random_state=random_state\n",
        "        )\n",
        "        return (distance * np.cos(heading), distance * np.sin(heading), 0)"
      ]
    },
    {
      "cell_type": "code",
      "execution_count": null,
      "metadata": {
        "id": "dgZwP-pvxJdt"
      },
      "outputs": [],
      "source": [
        "# @title The `PressWithSpecificForce` task\n",
        "\n",
        "\n",
        "class PressWithSpecificForce(composer.Task):\n",
        "    def __init__(self, creature):\n",
        "        self._creature = creature\n",
        "        self._arena = floors.Floor()\n",
        "        self._arena.add_free_entity(self._creature)\n",
        "        self._arena.mjcf_model.worldbody.add(\"light\", pos=(0, 0, 4))\n",
        "        self._button = Button()\n",
        "        self._arena.attach(self._button)\n",
        "\n",
        "        # Configure initial poses\n",
        "        self._creature_initial_pose = (0, 0, 0.15)\n",
        "        button_distance = distributions.Uniform(0.5, 0.75)\n",
        "        self._button_initial_pose = UniformCircle(button_distance)\n",
        "\n",
        "        # Configure variators\n",
        "        self._mjcf_variator = variation.MJCFVariator()\n",
        "        self._physics_variator = variation.PhysicsVariator()\n",
        "\n",
        "        # Configure and enable observables\n",
        "        pos_corrptor = noises.Additive(distributions.Normal(scale=0.01))\n",
        "        self._creature.observables.joint_positions.corruptor = pos_corrptor\n",
        "        self._creature.observables.joint_positions.enabled = True\n",
        "        vel_corruptor = noises.Multiplicative(distributions.LogNormal(sigma=0.01))\n",
        "        self._creature.observables.joint_velocities.corruptor = vel_corruptor\n",
        "        self._creature.observables.joint_velocities.enabled = True\n",
        "        self._button.observables.touch_force.enabled = True\n",
        "\n",
        "        def to_button(physics):\n",
        "            button_pos, _ = self._button.get_pose(physics)\n",
        "            return self._creature.global_vector_to_local_frame(physics, button_pos)\n",
        "\n",
        "        self._task_observables = {}\n",
        "        self._task_observables[\"button_position\"] = observable.Generic(to_button)\n",
        "\n",
        "        for obs in self._task_observables.values():\n",
        "            obs.enabled = True\n",
        "\n",
        "        self.control_timestep = NUM_SUBSTEPS * self.physics_timestep\n",
        "\n",
        "    @property\n",
        "    def root_entity(self):\n",
        "        return self._arena\n",
        "\n",
        "    @property\n",
        "    def task_observables(self):\n",
        "        return self._task_observables\n",
        "\n",
        "    def initialize_episode_mjcf(self, random_state):\n",
        "        self._mjcf_variator.apply_variations(random_state)\n",
        "\n",
        "    def initialize_episode(self, physics, random_state):\n",
        "        self._physics_variator.apply_variations(physics, random_state)\n",
        "        creature_pose, button_pose = variation.evaluate(\n",
        "            (self._creature_initial_pose, self._button_initial_pose),\n",
        "            random_state=random_state,\n",
        "        )\n",
        "        self._creature.set_pose(physics, position=creature_pose)\n",
        "        self._button.set_pose(physics, position=button_pose)\n",
        "\n",
        "    def get_reward(self, physics):\n",
        "        return self._button.num_activated_steps / NUM_SUBSTEPS"
      ]
    },
    {
      "cell_type": "code",
      "execution_count": null,
      "metadata": {
        "id": "dRuuZdLpthbv"
      },
      "outputs": [],
      "source": [
        "# @title Instantiating an environment{vertical-output: true}\n",
        "\n",
        "creature = Creature(num_legs=4)\n",
        "task = PressWithSpecificForce(creature)\n",
        "env = composer.Environment(task, random_state=np.random.RandomState(42))\n",
        "\n",
        "env.reset()\n",
        "PIL.Image.fromarray(env.physics.render())"
      ]
    },
    {
      "cell_type": "markdown",
      "metadata": {
        "id": "giTL_6euZFlw"
      },
      "source": [
        "# The *Control Suite*"
      ]
    },
    {
      "cell_type": "markdown",
      "metadata": {
        "id": "zfIcrDECtdB2"
      },
      "source": [
        "The **Control Suite** is a set of stable, well-tested tasks designed to serve as a benchmark for continuous control learning agents. Tasks are written using the basic MuJoCo wrapper interface. Standardised action, observation and reward structures make suite-wide benchmarking simple and learning curves easy to interpret. Control Suite domains are not meant to be modified, in order to facilitate benchmarking. For full details regarding benchmarking, please refer to our original [publication](https://arxiv.org/abs/1801.00690).\n",
        "\n",
        "A video of solved benchmark tasks is [available here](https://www.youtube.com/watch?v=rAai4QzcYbs&feature=youtu.be).\n",
        "\n",
        "The suite come with convenient module level tuples for iterating over tasks:"
      ]
    },
    {
      "cell_type": "code",
      "execution_count": null,
      "metadata": {
        "id": "a_whTJG8uTp1"
      },
      "outputs": [],
      "source": [
        "# @title Iterating over tasks{vertical-output: true}\n",
        "\n",
        "max_len = max(len(d) for d, _ in suite.BENCHMARKING)\n",
        "for domain, task in suite.BENCHMARKING:\n",
        "    print(f\"{domain:<{max_len}}  {task}\")"
      ]
    },
    {
      "cell_type": "code",
      "execution_count": null,
      "metadata": {
        "id": "qN8y3etfZFly"
      },
      "outputs": [],
      "source": [
        "# @title Loading and simulating a `suite` task{vertical-output: true}\n",
        "\n",
        "# Load the environment\n",
        "random_state = np.random.RandomState(42)\n",
        "env = suite.load(\"hopper\", \"stand\", task_kwargs={\"random\": random_state})\n",
        "\n",
        "# Simulate episode with random actions\n",
        "duration = 4  # Seconds\n",
        "frames = []\n",
        "ticks = []\n",
        "rewards = []\n",
        "observations = []\n",
        "\n",
        "spec = env.action_spec()\n",
        "time_step = env.reset()\n",
        "\n",
        "while env.physics.data.time < duration:\n",
        "    action = random_state.uniform(spec.minimum, spec.maximum, spec.shape)\n",
        "    time_step = env.step(action)\n",
        "\n",
        "    camera0 = env.physics.render(camera_id=0, height=200, width=200)\n",
        "    camera1 = env.physics.render(camera_id=1, height=200, width=200)\n",
        "    frames.append(np.hstack((camera0, camera1)))\n",
        "    rewards.append(time_step.reward)\n",
        "    observations.append(copy.deepcopy(time_step.observation))\n",
        "    ticks.append(env.physics.data.time)\n",
        "\n",
        "html_video = display_video(frames, framerate=1.0 / env.control_timestep())\n",
        "\n",
        "# Show video and plot reward and observations\n",
        "num_sensors = len(time_step.observation)\n",
        "\n",
        "_, ax = plt.subplots(1 + num_sensors, 1, sharex=True, figsize=(4, 8))\n",
        "ax[0].plot(ticks, rewards)\n",
        "ax[0].set_ylabel(\"reward\")\n",
        "ax[-1].set_xlabel(\"time\")\n",
        "\n",
        "for i, key in enumerate(time_step.observation):\n",
        "    data = np.asarray([observations[j][key] for j in range(len(observations))])\n",
        "    ax[i + 1].plot(ticks, data, label=key)\n",
        "    ax[i + 1].set_ylabel(key)\n",
        "\n",
        "html_video"
      ]
    },
    {
      "cell_type": "code",
      "execution_count": null,
      "metadata": {
        "id": "ggVbQr5hZFl5"
      },
      "outputs": [],
      "source": [
        "# @title Visualizing an initial state of one task per domain in the Control Suite\n",
        "# @test {\"timeout\": 180}\n",
        "domains_tasks = {domain: task for domain, task in suite.ALL_TASKS}\n",
        "random_state = np.random.RandomState(42)\n",
        "num_domains = len(domains_tasks)\n",
        "n_col = num_domains // int(np.sqrt(num_domains))\n",
        "n_row = num_domains // n_col + int(0 < num_domains % n_col)\n",
        "_, ax = plt.subplots(n_row, n_col, figsize=(12, 12))\n",
        "for a in ax.flat:\n",
        "    a.axis(\"off\")\n",
        "    a.grid(False)\n",
        "\n",
        "print(f\"Iterating over all {num_domains} domains in the Suite:\")\n",
        "for j, [domain, task] in enumerate(domains_tasks.items()):\n",
        "    print(domain, task)\n",
        "\n",
        "    env = suite.load(domain, task, task_kwargs={\"random\": random_state})\n",
        "    timestep = env.reset()\n",
        "    pixels = env.physics.render(height=200, width=200, camera_id=0)\n",
        "\n",
        "    ax.flat[j].imshow(pixels)\n",
        "    ax.flat[j].set_title(domain + \": \" + task)\n",
        "\n",
        "clear_output()"
      ]
    },
    {
      "cell_type": "markdown",
      "metadata": {
        "id": "JHSvxHiaopDb"
      },
      "source": [
        "# Locomotion"
      ]
    },
    {
      "cell_type": "markdown",
      "metadata": {
        "id": "yTn3C03dpHzL"
      },
      "source": [
        "## Humanoid running along corridor with obstacles\n",
        "\n",
        "As an illustrative example of using the Locomotion infrastructure to build an RL environment, consider placing a humanoid in a corridor with walls, and a task specifying that the humanoid will be rewarded for running along this corridor, navigating around the wall obstacles using vision. We instantiate the environment as a composition of the Walker, Arena, and Task as follows. First, we build a position-controlled CMU humanoid walker."
      ]
    },
    {
      "cell_type": "code",
      "execution_count": null,
      "metadata": {
        "id": "gE8rrB7PpN9X"
      },
      "outputs": [],
      "source": [
        "# @title A position controlled `cmu_humanoid`\n",
        "\n",
        "walker = cmu_humanoid.CMUHumanoidPositionControlledV2020(\n",
        "    observable_options={\"egocentric_camera\": dict(enabled=True)}\n",
        ")"
      ]
    },
    {
      "cell_type": "markdown",
      "metadata": {
        "id": "3fYbaDflBrgE"
      },
      "source": [
        "Next, we construct a corridor-shaped arena that is obstructed by walls."
      ]
    },
    {
      "cell_type": "code",
      "execution_count": null,
      "metadata": {
        "id": "t-O17Fnm3E6R"
      },
      "outputs": [],
      "source": [
        "# @title A corridor arena with wall obstacles\n",
        "\n",
        "arena = corridor_arenas.WallsCorridor(\n",
        "    wall_gap=3.0,\n",
        "    wall_width=distributions.Uniform(2.0, 3.0),\n",
        "    wall_height=distributions.Uniform(2.5, 3.5),\n",
        "    corridor_width=4.0,\n",
        "    corridor_length=30.0,\n",
        ")"
      ]
    },
    {
      "cell_type": "markdown",
      "metadata": {
        "id": "970nN38eBx-R"
      },
      "source": [
        "The task constructor places the walker in the arena."
      ]
    },
    {
      "cell_type": "code",
      "execution_count": null,
      "metadata": {
        "id": "dz4Jy2UGpQ4Z"
      },
      "outputs": [],
      "source": [
        "# @title A task to navigate the arena\n",
        "\n",
        "task = corridor_tasks.RunThroughCorridor(\n",
        "    walker=walker,\n",
        "    arena=arena,\n",
        "    walker_spawn_position=(0.5, 0, 0),\n",
        "    target_velocity=3.0,\n",
        "    physics_timestep=0.005,\n",
        "    control_timestep=0.03,\n",
        ")"
      ]
    },
    {
      "cell_type": "markdown",
      "metadata": {
        "id": "r-Oy-qTSB4HW"
      },
      "source": [
        "Finally, a task that rewards the agent for running down the corridor at a specific velocity is instantiated as a `composer.Environment`."
      ]
    },
    {
      "cell_type": "code",
      "execution_count": null,
      "metadata": {
        "id": "sQXlaEZk3ytl"
      },
      "outputs": [],
      "source": [
        "# @title The `RunThroughCorridor` environment\n",
        "\n",
        "env = composer.Environment(\n",
        "    task=task,\n",
        "    time_limit=10,\n",
        "    random_state=np.random.RandomState(42),\n",
        "    strip_singleton_obs_buffer_dim=True,\n",
        ")\n",
        "env.reset()\n",
        "pixels = []\n",
        "for camera_id in range(3):\n",
        "    pixels.append(env.physics.render(camera_id=camera_id, width=240))\n",
        "PIL.Image.fromarray(np.hstack(pixels))"
      ]
    },
    {
      "cell_type": "markdown",
      "metadata": {
        "id": "HuuQLm8YopDe"
      },
      "source": [
        "## Multi-Agent Soccer"
      ]
    },
    {
      "cell_type": "markdown",
      "metadata": {
        "id": "OPNshDEEopDf"
      },
      "source": [
        "Building on Composer and Locomotion libraries, the Multi-agent soccer environments, introduced in [this paper](https://arxiv.org/abs/1902.07151), follow a consistent task structure of Walkers, Arena, and Task where instead of a single walker, we inject multiple walkers that can interact with each other physically in the same scene. The code snippet below shows how to instantiate a 2-vs-2 Multi-agent Soccer environment with the simple, 5 degree-of-freedom `BoxHead` walker type."
      ]
    },
    {
      "cell_type": "code",
      "execution_count": null,
      "metadata": {
        "id": "zAb3je0DAeQo"
      },
      "outputs": [],
      "source": [
        "# @title 2-v-2 `Boxhead` soccer\n",
        "\n",
        "random_state = np.random.RandomState(42)\n",
        "env = soccer.load(\n",
        "    team_size=2,\n",
        "    time_limit=45.0,\n",
        "    random_state=random_state,\n",
        "    disable_walker_contacts=False,\n",
        "    walker_type=soccer.WalkerType.BOXHEAD,\n",
        ")\n",
        "env.reset()\n",
        "pixels = []\n",
        "# Select a random subset of 6 cameras (soccer envs have lots of cameras)\n",
        "cameras = random_state.choice(env.physics.model.ncam, 6, replace=False)\n",
        "for camera_id in cameras:\n",
        "    pixels.append(env.physics.render(camera_id=camera_id, width=240))\n",
        "image = np.vstack((np.hstack(pixels[:3]), np.hstack(pixels[3:])))\n",
        "PIL.Image.fromarray(image)"
      ]
    },
    {
      "cell_type": "markdown",
      "metadata": {
        "id": "J_5C2k0NGvxE"
      },
      "source": [
        " It can trivially be replaced by e.g. the `WalkerType.ANT` walker:"
      ]
    },
    {
      "cell_type": "code",
      "execution_count": null,
      "metadata": {
        "id": "WDIGodhBG-Mn"
      },
      "outputs": [],
      "source": [
        "# @title 3-v-3 `Ant` soccer\n",
        "\n",
        "random_state = np.random.RandomState(42)\n",
        "env = soccer.load(\n",
        "    team_size=3,\n",
        "    time_limit=45.0,\n",
        "    random_state=random_state,\n",
        "    disable_walker_contacts=False,\n",
        "    walker_type=soccer.WalkerType.ANT,\n",
        ")\n",
        "env.reset()\n",
        "\n",
        "pixels = []\n",
        "cameras = random_state.choice(env.physics.model.ncam, 6, replace=False)\n",
        "for camera_id in cameras:\n",
        "    pixels.append(env.physics.render(camera_id=camera_id, width=240))\n",
        "image = np.vstack((np.hstack(pixels[:3]), np.hstack(pixels[3:])))\n",
        "PIL.Image.fromarray(image)"
      ]
    },
    {
      "cell_type": "markdown",
      "metadata": {
        "id": "MvK9BW4A5c9p"
      },
      "source": [
        "# Manipulation"
      ]
    },
    {
      "cell_type": "markdown",
      "metadata": {
        "id": "jPt27n2Dch_m"
      },
      "source": [
        "The `manipulation` module provides a robotic arm, a set of simple objects, and tools for building reward functions for manipulation tasks."
      ]
    },
    {
      "cell_type": "code",
      "execution_count": null,
      "metadata": {
        "id": "cZxmJoovahCA"
      },
      "outputs": [],
      "source": [
        "# @title Listing all `manipulation` tasks{vertical-output: true}\n",
        "\n",
        "# `ALL` is a tuple containing the names of all of the environments in the suite.\n",
        "print(\"\\n\".join(manipulation.ALL))"
      ]
    },
    {
      "cell_type": "code",
      "execution_count": null,
      "metadata": {
        "id": "oj0cJFlR5nTS"
      },
      "outputs": [],
      "source": [
        "# @title Listing `manipulation` tasks that use vision{vertical-output: true}\n",
        "print(\"\\n\".join(manipulation.get_environments_by_tag(\"vision\")))"
      ]
    },
    {
      "cell_type": "code",
      "execution_count": null,
      "metadata": {
        "id": "e_6q4FqFIKxy"
      },
      "outputs": [],
      "source": [
        "# @title Loading and simulating a `manipulation` task{vertical-output: true}\n",
        "\n",
        "env = manipulation.load(\"stack_2_of_3_bricks_random_order_vision\", seed=42)\n",
        "action_spec = env.action_spec()\n",
        "\n",
        "\n",
        "def sample_random_action():\n",
        "    return env.random_state.uniform(\n",
        "        low=action_spec.minimum,\n",
        "        high=action_spec.maximum,\n",
        "    ).astype(action_spec.dtype, copy=False)\n",
        "\n",
        "\n",
        "# Step the environment through a full episode using random actions and record\n",
        "# the camera observations.\n",
        "frames = []\n",
        "timestep = env.reset()\n",
        "frames.append(timestep.observation[\"front_close\"])\n",
        "while not timestep.last():\n",
        "    timestep = env.step(sample_random_action())\n",
        "    frames.append(timestep.observation[\"front_close\"])\n",
        "all_frames = np.concatenate(frames, axis=0)\n",
        "display_video(all_frames, 30)"
      ]
    }
  ],
  "metadata": {
    "accelerator": "GPU",
    "colab": {
      "collapsed_sections": [
        "YkBQUjm6gbGF",
        "YvyGCsgSCxHQ",
        "wtDN43hIJh2C",
        "jZXz9rPYGA-Y",
        "MdUF2UYmR4TA",
        "nQ8XOnRQx7T1",
        "gf9h_wi9weet",
        "NCcZxrDDB1Cj",
        "t5hY0fyXFLcf",
        "Z0UodCxS_v49",
        "22ENjtVuhwsm",
        "SHppAOjvSupc",
        "rRuFKD2ubPgu",
        "UAMItwu8e1WR",
        "wcRX_wu_8q8u",
        "giTL_6euZFlw",
        "JHSvxHiaopDb",
        "yTn3C03dpHzL",
        "HuuQLm8YopDe",
        "MvK9BW4A5c9p"
      ],
      "name": "dm_control",
      "private_outputs": true,
      "provenance": [],
      "toc_visible": true
    },
    "kernelspec": {
      "display_name": "Python 3",
      "name": "python3"
    },
    "language_info": {
      "codemirror_mode": {
        "name": "ipython",
        "version": 3
      },
      "file_extension": ".py",
      "mimetype": "text/x-python",
      "name": "python",
      "nbconvert_exporter": "python",
      "pygments_lexer": "ipython3",
      "version": "3.10.13"
    }
  },
  "nbformat": 4,
  "nbformat_minor": 0
}
